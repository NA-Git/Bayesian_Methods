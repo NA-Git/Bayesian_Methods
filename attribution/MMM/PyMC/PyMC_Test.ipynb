{
 "cells": [
  {
   "cell_type": "code",
   "execution_count": null,
   "metadata": {
    "collapsed": true,
    "pycharm": {
     "is_executing": true
    }
   },
   "outputs": [],
   "source": [
    "import pandas as pd\n",
    "import pymc as pm\n",
    "import arviz as az\n",
    "import pymc_marketing"
   ]
  },
  {
   "cell_type": "code",
   "execution_count": null,
   "outputs": [],
   "source": [
    "\n",
    "from pymc_marketing.mmm import DelayedSaturatedMMM"
   ],
   "metadata": {
    "collapsed": false,
    "pycharm": {
     "is_executing": true
    }
   }
  },
  {
   "cell_type": "code",
   "execution_count": null,
   "outputs": [],
   "source": [
    "data = pd.read_csv(\n",
    "    'https://raw.githubusercontent.com/Garve/datasets/4576d323bf2b66c906d5130d686245ad205505cf/mmm.csv',\n",
    "    parse_dates=['Date']\n",
    ")"
   ],
   "metadata": {
    "collapsed": false,
    "pycharm": {
     "is_executing": true
    }
   }
  },
  {
   "cell_type": "code",
   "execution_count": null,
   "outputs": [],
   "source": [
    "mmm = DelayedSaturatedMMM(\n",
    "    data=data,\n",
    "    target_column=\"Sales\",\n",
    "    date_column=\"Date\",\n",
    "    channel_columns=[\"TV\", \"Radio\", \"Banners\"],\n",
    ")"
   ],
   "metadata": {
    "collapsed": false
   }
  },
  {
   "cell_type": "code",
   "execution_count": null,
   "outputs": [],
   "source": [
    "pm.model_to_graphviz(model=mmm.model)"
   ],
   "metadata": {
    "collapsed": false
   }
  },
  {
   "cell_type": "code",
   "execution_count": null,
   "outputs": [],
   "source": [
    "mmm.fit()"
   ],
   "metadata": {
    "collapsed": false
   }
  },
  {
   "cell_type": "code",
   "execution_count": null,
   "outputs": [],
   "source": [
    "az.summary(\n",
    "    data=mmm.fit_result,\n",
    "    var_names=[\"intercept\", \"beta_channel\", \"alpha\",  \"lam\", \"sigma\"]\n",
    ")"
   ],
   "metadata": {
    "collapsed": false
   }
  },
  {
   "cell_type": "markdown",
   "source": [],
   "metadata": {
    "collapsed": false
   }
  },
  {
   "cell_type": "code",
   "execution_count": null,
   "outputs": [],
   "source": [
    "mmm.plot_channel_parameter(param_name=\"alpha\", figsize=(9, 5))"
   ],
   "metadata": {
    "collapsed": false
   }
  },
  {
   "cell_type": "code",
   "execution_count": null,
   "outputs": [],
   "source": [
    "mmm.plot_channel_contribution_share_hdi()"
   ],
   "metadata": {
    "collapsed": false
   }
  },
  {
   "cell_type": "code",
   "execution_count": null,
   "outputs": [],
   "source": [
    "mmm.plot_posterior_predictive(original_scale=True)"
   ],
   "metadata": {
    "collapsed": false
   }
  },
  {
   "cell_type": "code",
   "execution_count": null,
   "outputs": [],
   "source": [
    "mmm.plot_components_contributions()"
   ],
   "metadata": {
    "collapsed": false
   }
  },
  {
   "cell_type": "code",
   "execution_count": 7,
   "outputs": [
    {
     "ename": "ImportError",
     "evalue": "DLL load failed while importing _imaging: The specified module could not be found.",
     "output_type": "error",
     "traceback": [
      "\u001B[1;31m---------------------------------------------------------------------------\u001B[0m",
      "\u001B[1;31mImportError\u001B[0m                               Traceback (most recent call last)",
      "Cell \u001B[1;32mIn[7], line 1\u001B[0m\n\u001B[1;32m----> 1\u001B[0m \u001B[38;5;28;01mimport\u001B[39;00m \u001B[38;5;21;01marviz\u001B[39;00m \u001B[38;5;28;01mas\u001B[39;00m \u001B[38;5;21;01maz\u001B[39;00m\n\u001B[0;32m      2\u001B[0m \u001B[38;5;28;01mimport\u001B[39;00m \u001B[38;5;21;01mmatplotlib\u001B[39;00m\u001B[38;5;21;01m.\u001B[39;00m\u001B[38;5;21;01mpyplot\u001B[39;00m \u001B[38;5;28;01mas\u001B[39;00m \u001B[38;5;21;01mplt\u001B[39;00m\n\u001B[0;32m      3\u001B[0m \u001B[38;5;28;01mimport\u001B[39;00m \u001B[38;5;21;01mnumpy\u001B[39;00m \u001B[38;5;28;01mas\u001B[39;00m \u001B[38;5;21;01mnp\u001B[39;00m\n",
      "File \u001B[1;32m~\\.conda\\envs\\6420_1\\lib\\site-packages\\arviz\\__init__.py:8\u001B[0m\n\u001B[0;32m      5\u001B[0m \u001B[38;5;28;01mimport\u001B[39;00m \u001B[38;5;21;01mlogging\u001B[39;00m\n\u001B[0;32m      6\u001B[0m \u001B[38;5;28;01mimport\u001B[39;00m \u001B[38;5;21;01mos\u001B[39;00m\n\u001B[1;32m----> 8\u001B[0m \u001B[38;5;28;01mfrom\u001B[39;00m \u001B[38;5;21;01mmatplotlib\u001B[39;00m\u001B[38;5;21;01m.\u001B[39;00m\u001B[38;5;21;01mcolors\u001B[39;00m \u001B[38;5;28;01mimport\u001B[39;00m LinearSegmentedColormap\n\u001B[0;32m      9\u001B[0m \u001B[38;5;28;01mfrom\u001B[39;00m \u001B[38;5;21;01mmatplotlib\u001B[39;00m\u001B[38;5;21;01m.\u001B[39;00m\u001B[38;5;21;01mpyplot\u001B[39;00m \u001B[38;5;28;01mimport\u001B[39;00m style\n\u001B[0;32m     10\u001B[0m \u001B[38;5;28;01mimport\u001B[39;00m \u001B[38;5;21;01mmatplotlib\u001B[39;00m \u001B[38;5;28;01mas\u001B[39;00m \u001B[38;5;21;01mmpl\u001B[39;00m\n",
      "File \u001B[1;32m~\\.conda\\envs\\6420_1\\lib\\site-packages\\matplotlib\\__init__.py:109\u001B[0m\n\u001B[0;32m    105\u001B[0m \u001B[38;5;28;01mfrom\u001B[39;00m \u001B[38;5;21;01mpackaging\u001B[39;00m\u001B[38;5;21;01m.\u001B[39;00m\u001B[38;5;21;01mversion\u001B[39;00m \u001B[38;5;28;01mimport\u001B[39;00m parse \u001B[38;5;28;01mas\u001B[39;00m parse_version\n\u001B[0;32m    107\u001B[0m \u001B[38;5;66;03m# cbook must import matplotlib only within function\u001B[39;00m\n\u001B[0;32m    108\u001B[0m \u001B[38;5;66;03m# definitions, so it is safe to import from it here.\u001B[39;00m\n\u001B[1;32m--> 109\u001B[0m \u001B[38;5;28;01mfrom\u001B[39;00m \u001B[38;5;21;01m.\u001B[39;00m \u001B[38;5;28;01mimport\u001B[39;00m _api, _version, cbook, docstring, rcsetup\n\u001B[0;32m    110\u001B[0m \u001B[38;5;28;01mfrom\u001B[39;00m \u001B[38;5;21;01mmatplotlib\u001B[39;00m\u001B[38;5;21;01m.\u001B[39;00m\u001B[38;5;21;01mcbook\u001B[39;00m \u001B[38;5;28;01mimport\u001B[39;00m MatplotlibDeprecationWarning, sanitize_sequence\n\u001B[0;32m    111\u001B[0m \u001B[38;5;28;01mfrom\u001B[39;00m \u001B[38;5;21;01mmatplotlib\u001B[39;00m\u001B[38;5;21;01m.\u001B[39;00m\u001B[38;5;21;01mcbook\u001B[39;00m \u001B[38;5;28;01mimport\u001B[39;00m mplDeprecation  \u001B[38;5;66;03m# deprecated\u001B[39;00m\n",
      "File \u001B[1;32m~\\.conda\\envs\\6420_1\\lib\\site-packages\\matplotlib\\rcsetup.py:27\u001B[0m\n\u001B[0;32m     25\u001B[0m \u001B[38;5;28;01mfrom\u001B[39;00m \u001B[38;5;21;01mmatplotlib\u001B[39;00m \u001B[38;5;28;01mimport\u001B[39;00m _api, cbook\n\u001B[0;32m     26\u001B[0m \u001B[38;5;28;01mfrom\u001B[39;00m \u001B[38;5;21;01mmatplotlib\u001B[39;00m\u001B[38;5;21;01m.\u001B[39;00m\u001B[38;5;21;01mcbook\u001B[39;00m \u001B[38;5;28;01mimport\u001B[39;00m ls_mapper\n\u001B[1;32m---> 27\u001B[0m \u001B[38;5;28;01mfrom\u001B[39;00m \u001B[38;5;21;01mmatplotlib\u001B[39;00m\u001B[38;5;21;01m.\u001B[39;00m\u001B[38;5;21;01mcolors\u001B[39;00m \u001B[38;5;28;01mimport\u001B[39;00m Colormap, is_color_like\n\u001B[0;32m     28\u001B[0m \u001B[38;5;28;01mfrom\u001B[39;00m \u001B[38;5;21;01mmatplotlib\u001B[39;00m\u001B[38;5;21;01m.\u001B[39;00m\u001B[38;5;21;01mfontconfig_pattern\u001B[39;00m \u001B[38;5;28;01mimport\u001B[39;00m parse_fontconfig_pattern\n\u001B[0;32m     29\u001B[0m \u001B[38;5;28;01mfrom\u001B[39;00m \u001B[38;5;21;01mmatplotlib\u001B[39;00m\u001B[38;5;21;01m.\u001B[39;00m\u001B[38;5;21;01m_enums\u001B[39;00m \u001B[38;5;28;01mimport\u001B[39;00m JoinStyle, CapStyle\n",
      "File \u001B[1;32m~\\.conda\\envs\\6420_1\\lib\\site-packages\\matplotlib\\colors.py:51\u001B[0m\n\u001B[0;32m     49\u001B[0m \u001B[38;5;28;01mfrom\u001B[39;00m \u001B[38;5;21;01mnumbers\u001B[39;00m \u001B[38;5;28;01mimport\u001B[39;00m Number\n\u001B[0;32m     50\u001B[0m \u001B[38;5;28;01mimport\u001B[39;00m \u001B[38;5;21;01mre\u001B[39;00m\n\u001B[1;32m---> 51\u001B[0m \u001B[38;5;28;01mfrom\u001B[39;00m \u001B[38;5;21;01mPIL\u001B[39;00m \u001B[38;5;28;01mimport\u001B[39;00m Image\n\u001B[0;32m     52\u001B[0m \u001B[38;5;28;01mfrom\u001B[39;00m \u001B[38;5;21;01mPIL\u001B[39;00m\u001B[38;5;21;01m.\u001B[39;00m\u001B[38;5;21;01mPngImagePlugin\u001B[39;00m \u001B[38;5;28;01mimport\u001B[39;00m PngInfo\n\u001B[0;32m     54\u001B[0m \u001B[38;5;28;01mimport\u001B[39;00m \u001B[38;5;21;01mmatplotlib\u001B[39;00m \u001B[38;5;28;01mas\u001B[39;00m \u001B[38;5;21;01mmpl\u001B[39;00m\n",
      "File \u001B[1;32m~\\.conda\\envs\\6420_1\\lib\\site-packages\\PIL\\Image.py:103\u001B[0m\n\u001B[0;32m     94\u001B[0m MAX_IMAGE_PIXELS \u001B[38;5;241m=\u001B[39m \u001B[38;5;28mint\u001B[39m(\u001B[38;5;241m1024\u001B[39m \u001B[38;5;241m*\u001B[39m \u001B[38;5;241m1024\u001B[39m \u001B[38;5;241m*\u001B[39m \u001B[38;5;241m1024\u001B[39m \u001B[38;5;241m/\u001B[39m\u001B[38;5;241m/\u001B[39m \u001B[38;5;241m4\u001B[39m \u001B[38;5;241m/\u001B[39m\u001B[38;5;241m/\u001B[39m \u001B[38;5;241m3\u001B[39m)\n\u001B[0;32m     97\u001B[0m \u001B[38;5;28;01mtry\u001B[39;00m:\n\u001B[0;32m     98\u001B[0m     \u001B[38;5;66;03m# If the _imaging C module is not present, Pillow will not load.\u001B[39;00m\n\u001B[0;32m     99\u001B[0m     \u001B[38;5;66;03m# Note that other modules should not refer to _imaging directly;\u001B[39;00m\n\u001B[0;32m    100\u001B[0m     \u001B[38;5;66;03m# import Image and use the Image.core variable instead.\u001B[39;00m\n\u001B[0;32m    101\u001B[0m     \u001B[38;5;66;03m# Also note that Image.core is not a publicly documented interface,\u001B[39;00m\n\u001B[0;32m    102\u001B[0m     \u001B[38;5;66;03m# and should be considered private and subject to change.\u001B[39;00m\n\u001B[1;32m--> 103\u001B[0m     \u001B[38;5;28;01mfrom\u001B[39;00m \u001B[38;5;21;01m.\u001B[39;00m \u001B[38;5;28;01mimport\u001B[39;00m _imaging \u001B[38;5;28;01mas\u001B[39;00m core\n\u001B[0;32m    105\u001B[0m     \u001B[38;5;28;01mif\u001B[39;00m __version__ \u001B[38;5;241m!=\u001B[39m \u001B[38;5;28mgetattr\u001B[39m(core, \u001B[38;5;124m\"\u001B[39m\u001B[38;5;124mPILLOW_VERSION\u001B[39m\u001B[38;5;124m\"\u001B[39m, \u001B[38;5;28;01mNone\u001B[39;00m):\n\u001B[0;32m    106\u001B[0m         msg \u001B[38;5;241m=\u001B[39m (\n\u001B[0;32m    107\u001B[0m             \u001B[38;5;124m\"\u001B[39m\u001B[38;5;124mThe _imaging extension was built for another version of Pillow or PIL:\u001B[39m\u001B[38;5;130;01m\\n\u001B[39;00m\u001B[38;5;124m\"\u001B[39m\n\u001B[0;32m    108\u001B[0m             \u001B[38;5;124mf\u001B[39m\u001B[38;5;124m\"\u001B[39m\u001B[38;5;124mCore version: \u001B[39m\u001B[38;5;132;01m{\u001B[39;00m\u001B[38;5;28mgetattr\u001B[39m(core,\u001B[38;5;250m \u001B[39m\u001B[38;5;124m'\u001B[39m\u001B[38;5;124mPILLOW_VERSION\u001B[39m\u001B[38;5;124m'\u001B[39m,\u001B[38;5;250m \u001B[39m\u001B[38;5;28;01mNone\u001B[39;00m)\u001B[38;5;132;01m}\u001B[39;00m\u001B[38;5;130;01m\\n\u001B[39;00m\u001B[38;5;124m\"\u001B[39m\n\u001B[0;32m    109\u001B[0m             \u001B[38;5;124mf\u001B[39m\u001B[38;5;124m\"\u001B[39m\u001B[38;5;124mPillow version: \u001B[39m\u001B[38;5;132;01m{\u001B[39;00m__version__\u001B[38;5;132;01m}\u001B[39;00m\u001B[38;5;124m\"\u001B[39m\n\u001B[0;32m    110\u001B[0m         )\n",
      "\u001B[1;31mImportError\u001B[0m: DLL load failed while importing _imaging: The specified module could not be found."
     ]
    }
   ],
   "source": [
    "import arviz as az\n",
    "import matplotlib.pyplot as plt\n",
    "import numpy as np\n",
    "import pandas as pd\n",
    "import pymc as pm\n",
    "import seaborn as sns\n",
    "\n",
    "from pymc_marketing.mmm.transformers import geometric_adstock, logistic_saturation\n",
    "from pymc_marketing.mmm.delayed_saturated_mmm import DelayedSaturatedMMM\n",
    "from pymc_marketing.mmm.utils import generate_fourier_modes\n",
    "\n",
    "az.style.use(\"arviz-darkgrid\")\n",
    "plt.rcParams[\"figure.figsize\"] = [12, 7]\n",
    "plt.rcParams[\"figure.dpi\"] = 100\n",
    "\n",
    "%load_ext autoreload\n",
    "%autoreload 2\n",
    "%config InlineBackend.figure_format = \"retina\""
   ],
   "metadata": {
    "collapsed": false
   }
  },
  {
   "cell_type": "code",
   "execution_count": null,
   "outputs": [],
   "source": [
    "seed: int = sum(map(ord, \"mmm\"))\n",
    "rng: np.random.Generator = np.random.default_rng(seed=seed)\n",
    "\n",
    "# date range\n",
    "min_date = pd.to_datetime(\"2018-04-01\")\n",
    "max_date = pd.to_datetime(\"2021-09-01\")\n",
    "\n",
    "df = pd.DataFrame(\n",
    "    data={\"date_week\": pd.date_range(start=min_date, end=max_date, freq=\"W-MON\")}\n",
    ").assign(\n",
    "    year=lambda x: x[\"date_week\"].dt.year,\n",
    "    month=lambda x: x[\"date_week\"].dt.month,\n",
    "    dayofyear=lambda x: x[\"date_week\"].dt.dayofyear,\n",
    ")\n",
    "\n",
    "n = df.shape[0]\n",
    "print(f\"Number of observations: {n}\")"
   ],
   "metadata": {
    "collapsed": false
   }
  },
  {
   "cell_type": "code",
   "execution_count": null,
   "outputs": [],
   "source": [
    "# media data\n",
    "x1 = rng.uniform(low=0.0, high=1.0, size=n)\n",
    "df[\"x1\"] = np.where(x1 > 0.9, x1, x1 / 2)\n",
    "\n",
    "x2 = rng.uniform(low=0.0, high=1.0, size=n)\n",
    "df[\"x2\"] = np.where(x2 > 0.8, x2, 0)\n",
    "\n",
    "\n",
    "fig, ax = plt.subplots(\n",
    "    nrows=2, ncols=1, figsize=(10, 7), sharex=True, sharey=True, layout=\"constrained\"\n",
    ")\n",
    "sns.lineplot(x=\"date_week\", y=\"x1\", data=df, color=\"C0\", ax=ax[0])\n",
    "sns.lineplot(x=\"date_week\", y=\"x2\", data=df, color=\"C1\", ax=ax[1])\n",
    "ax[1].set(xlabel=\"date\")\n",
    "fig.suptitle(\"Media Costs Data\", fontsize=16);"
   ],
   "metadata": {
    "collapsed": false
   }
  },
  {
   "cell_type": "code",
   "execution_count": null,
   "outputs": [],
   "source": [
    "# apply geometric adstock transformation\n",
    "alpha1: float = 0.4\n",
    "alpha2: float = 0.2\n",
    "\n",
    "df[\"x1_adstock\"] = (\n",
    "    geometric_adstock(\n",
    "        x=df[\"x1\"].to_numpy(), alpha=alpha1, l_max=8, normalize=True\n",
    "    )\n",
    "    .eval()\n",
    "    .flatten()\n",
    ")\n",
    "\n",
    "df[\"x2_adstock\"] = (\n",
    "    geometric_adstock(\n",
    "        x=df[\"x2\"].to_numpy(), alpha=alpha2, l_max=8, normalize=True\n",
    "    )\n",
    "    .eval()\n",
    "    .flatten()\n",
    ")"
   ],
   "metadata": {
    "collapsed": false
   }
  },
  {
   "cell_type": "code",
   "execution_count": null,
   "outputs": [],
   "source": [
    "# apply saturation transformation\n",
    "lam1: float = 4.0\n",
    "lam2: float = 3.0\n",
    "\n",
    "df[\"x1_adstock_saturated\"] = logistic_saturation(\n",
    "    x=df[\"x1_adstock\"].to_numpy(), lam=lam1\n",
    ").eval()\n",
    "\n",
    "df[\"x2_adstock_saturated\"] = logistic_saturation(\n",
    "    x=df[\"x2_adstock\"].to_numpy(), lam=lam2\n",
    ").eval()"
   ],
   "metadata": {
    "collapsed": false
   }
  },
  {
   "cell_type": "code",
   "execution_count": null,
   "outputs": [],
   "source": [
    "fig, ax = plt.subplots(\n",
    "    nrows=3, ncols=2, figsize=(16, 9), sharex=True, sharey=False, layout=\"constrained\"\n",
    ")\n",
    "sns.lineplot(x=\"date_week\", y=\"x1\", data=df, color=\"C0\", ax=ax[0, 0])\n",
    "sns.lineplot(x=\"date_week\", y=\"x2\", data=df, color=\"C1\", ax=ax[0, 1])\n",
    "sns.lineplot(x=\"date_week\", y=\"x1_adstock\", data=df, color=\"C0\", ax=ax[1, 0])\n",
    "sns.lineplot(x=\"date_week\", y=\"x2_adstock\", data=df, color=\"C1\", ax=ax[1, 1])\n",
    "sns.lineplot(x=\"date_week\", y=\"x1_adstock_saturated\", data=df, color=\"C0\", ax=ax[2, 0])\n",
    "sns.lineplot(x=\"date_week\", y=\"x2_adstock_saturated\", data=df, color=\"C1\", ax=ax[2, 1])\n",
    "fig.suptitle(\"Media Costs Data - Transformed\", fontsize=16);"
   ],
   "metadata": {
    "collapsed": false
   }
  },
  {
   "cell_type": "code",
   "execution_count": null,
   "outputs": [],
   "source": [
    "df[\"trend\"] = (np.linspace(start=0.0, stop=50, num=n) + 10) ** (1 / 4) - 1\n",
    "\n",
    "df[\"cs\"] = - np.sin(2 * 2 * np.pi * df[\"dayofyear\"] / 365.5)\n",
    "df[\"cc\"] = np.cos(1 * 2 * np.pi * df[\"dayofyear\"] / 365.5)\n",
    "df[\"seasonality\"] = 0.5 * (df[\"cs\"] + df[\"cc\"])\n",
    "\n",
    "fig, ax = plt.subplots()\n",
    "sns.lineplot(x=\"date_week\", y=\"trend\", color=\"C2\", label=\"trend\", data=df, ax=ax)\n",
    "sns.lineplot(x=\"date_week\", y=\"seasonality\", color=\"C3\", label=\"seasonality\", data=df, ax=ax)\n",
    "ax.legend(loc=\"upper left\")\n",
    "ax.set(title=\"Trend & Seasonality Components\", xlabel=\"date\", ylabel=None);"
   ],
   "metadata": {
    "collapsed": false
   }
  },
  {
   "cell_type": "code",
   "execution_count": null,
   "outputs": [],
   "source": [
    "df[\"event_1\"] = (df[\"date_week\"] == \"2019-05-13\").astype(float)\n",
    "df[\"event_2\"] = (df[\"date_week\"] == \"2020-09-14\").astype(float)"
   ],
   "metadata": {
    "collapsed": false
   }
  },
  {
   "cell_type": "code",
   "execution_count": null,
   "outputs": [],
   "source": [
    "df[\"intercept\"] = 2.0\n",
    "df[\"epsilon\"] = rng.normal(loc=0.0, scale=0.25, size=n)\n",
    "\n",
    "amplitude = 1\n",
    "beta_1 = 3.0\n",
    "beta_2 = 2.0\n",
    "betas = [beta_1, beta_2]\n",
    "\n",
    "\n",
    "df[\"y\"] = amplitude * (\n",
    "        df[\"intercept\"]\n",
    "        + df[\"trend\"]\n",
    "        + df[\"seasonality\"]\n",
    "        + 1.5 * df[\"event_1\"]\n",
    "        + 2.5 * df[\"event_2\"]\n",
    "        + beta_1 * df[\"x1_adstock_saturated\"]\n",
    "        + beta_2 * df[\"x2_adstock_saturated\"]\n",
    "        + df[\"epsilon\"]\n",
    ")\n",
    "\n",
    "fig, ax = plt.subplots()\n",
    "sns.lineplot(x=\"date_week\", y=\"y\", color=\"black\", data=df, ax=ax)\n",
    "ax.set(title=\"Sales (Target Variable)\", xlabel=\"date\", ylabel=\"y (thousands)\");"
   ],
   "metadata": {
    "collapsed": false
   }
  },
  {
   "cell_type": "code",
   "execution_count": null,
   "outputs": [],
   "source": [
    "contribution_share_x1: float = (\n",
    "        (beta_1 * df[\"x1_adstock_saturated\"]).sum()\n",
    "        / (beta_1 * df[\"x1_adstock_saturated\"] + beta_2 * df[\"x2_adstock_saturated\"]).sum()\n",
    ")\n",
    "\n",
    "contribution_share_x2: float = (\n",
    "        (beta_2 * df[\"x2_adstock_saturated\"]).sum()\n",
    "        / (beta_1 * df[\"x1_adstock_saturated\"] + beta_2 * df[\"x2_adstock_saturated\"]).sum()\n",
    ")\n",
    "\n",
    "print(f\"Contribution Share of x1: {contribution_share_x1:.2f}\")\n",
    "print(f\"Contribution Share of x2: {contribution_share_x2:.2f}\")"
   ],
   "metadata": {
    "collapsed": false
   }
  },
  {
   "cell_type": "code",
   "execution_count": null,
   "outputs": [],
   "source": [
    "fig, ax = plt.subplots(\n",
    "    nrows=2, ncols=1, figsize=(12, 8), sharex=True, sharey=False, layout=\"constrained\"\n",
    ")\n",
    "\n",
    "for i, x in enumerate([\"x1\", \"x2\"]):\n",
    "    sns.scatterplot(\n",
    "        x=df[x],\n",
    "        y=amplitude * betas[i] * df[f\"{x}_adstock_saturated\"],\n",
    "        color=f\"C{i}\",\n",
    "        ax=ax[i],\n",
    "    )\n",
    "    ax[i].set(\n",
    "        title=f\"$x_{i + 1}$ contribution\",\n",
    "        ylabel=f\"$\\\\beta_{i + 1} \\cdot x_{i + 1}$ adstocked & saturated\",\n",
    "        xlabel=\"x\",\n",
    "    )"
   ],
   "metadata": {
    "collapsed": false
   }
  },
  {
   "cell_type": "code",
   "execution_count": null,
   "outputs": [],
   "source": [
    "fig, ax = plt.subplots(figsize=(7, 5))\n",
    "df[[\"x1\", \"x2\"]].sum().plot(kind=\"bar\", color=[\"C0\", \"C1\"], ax=ax)\n",
    "ax.set(title=\"Total Media Spend\", xlabel=\"Media Channel\", ylabel=\"Costs (thousands)\");"
   ],
   "metadata": {
    "collapsed": false
   }
  },
  {
   "cell_type": "code",
   "execution_count": null,
   "outputs": [],
   "source": [
    "roas_1 = (amplitude * beta_1 * df[\"x1_adstock_saturated\"]).sum() / df[\"x1\"].sum()\n",
    "roas_2 = (amplitude * beta_2 * df[\"x2_adstock_saturated\"]).sum() / df[\"x2\"].sum()"
   ],
   "metadata": {
    "collapsed": false
   }
  },
  {
   "cell_type": "code",
   "execution_count": null,
   "outputs": [],
   "source": [
    "fig, ax = plt.subplots(figsize=(7, 5))\n",
    "(\n",
    "    pd.Series(data=[roas_1, roas_2], index=[\"x1\", \"x2\"])\n",
    "    .plot(kind=\"bar\", color=[\"C0\", \"C1\"])\n",
    ")\n",
    "\n",
    "ax.set(title=\"ROAS (Approximation)\", xlabel=\"Media Channel\", ylabel=\"ROAS\");"
   ],
   "metadata": {
    "collapsed": false
   }
  },
  {
   "cell_type": "code",
   "execution_count": null,
   "outputs": [],
   "source": [
    "columns_to_keep = [\n",
    "    \"date_week\",\n",
    "    \"y\",\n",
    "    \"x1\",\n",
    "    \"x2\",\n",
    "    \"event_1\",\n",
    "    \"event_2\",\n",
    "    \"dayofyear\",\n",
    "]\n",
    "\n",
    "data = df[columns_to_keep].copy()\n",
    "\n",
    "data.head()"
   ],
   "metadata": {
    "collapsed": false
   }
  }
 ],
 "metadata": {
  "kernelspec": {
   "name": "pycharm-2660a024",
   "language": "python",
   "display_name": "PyCharm (mercury-ds)"
  },
  "language_info": {
   "codemirror_mode": {
    "name": "ipython",
    "version": 2
   },
   "file_extension": ".py",
   "mimetype": "text/x-python",
   "name": "python",
   "nbconvert_exporter": "python",
   "pygments_lexer": "ipython2",
   "version": "2.7.6"
  }
 },
 "nbformat": 4,
 "nbformat_minor": 0
}
