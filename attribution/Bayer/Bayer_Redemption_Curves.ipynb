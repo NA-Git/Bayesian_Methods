{
 "nbformat": 4,
 "nbformat_minor": 0,
 "metadata": {
  "kernelspec": {
   "name": "python3",
   "language": "python",
   "display_name": "Python 3 (ipykernel)"
  },
  "language_info": {
   "codemirror_mode": {
    "name": "ipython",
    "version": 2
   },
   "file_extension": ".py",
   "mimetype": "text/x-python",
   "name": "python",
   "nbconvert_exporter": "python",
   "pygments_lexer": "ipython2",
   "version": "2.7.6"
  },
  "colab": {
   "name": "Redemption Curves.ipynb",
   "provenance": []
  }
 },
 "cells": [
  {
   "cell_type": "markdown",
   "metadata": {
    "id": "VOJy_xw2RV9-",
    "pycharm": {
     "name": "#%% md\n"
    }
   },
   "source": [
    "## Redemption Decay Functions for Reconciliation Estimation"
   ]
  },
  {
   "cell_type": "markdown",
   "source": [
    "DATASET CONSTRUCTION INFORMATION\n"
   ],
   "metadata": {
    "collapsed": false,
    "pycharm": {
     "name": "#%% md\n"
    }
   }
  },
  {
   "cell_type": "markdown",
   "source": [
    "This file describes the creation of the initial dataset used to model coupon redemption for Bayer.\n",
    "The process was done in Alteryx.\n",
    "Monthly finance reports were provided by Bayer. Each report contained a list of coupons, issue dates,\n",
    "and redemption numbers. The reports were combined into one large dataset. Only coupons with data\n",
    "greater than 30 days since issue were included. Three variables, two final and one intermediate, were created.\n",
    "\n",
    "1. Sum_PERIOD-QTY: contained the sum total of redemptions for each coupon for all periods.\n",
    "2. Total_Dist_Percent: each period's redemption per coupon divided by the Sum-Period-QTY.\n",
    "3. Days_Since_Issue: calculated the number of days since coupon issue.\n",
    "\n",
    "Variables 2 and 3 were used in the Python program.\n",
    "\n",
    "NOTE: the data provided was monthly. This prevented modeling the first few weeks of any given coupon, meaning coupon forecasting\n",
    "is only possible after 30 days. Also, after filtering criteria, some coupon types did not have enough samples for accurate modeling,\n",
    "and were either grouped together by similarity or defaulted to Budget Cost Life."
   ],
   "metadata": {
    "collapsed": false,
    "pycharm": {
     "name": "#%% md\n"
    }
   }
  },
  {
   "cell_type": "code",
   "metadata": {
    "collapsed": true,
    "id": "AAd9TyN32xps",
    "colab": {
     "base_uri": "https://localhost:8080/"
    },
    "outputId": "4304ffef-764d-4d56-9f8b-9bb89a0fcc8e",
    "pycharm": {
     "name": "#%%\n"
    }
   },
   "source": [
    "# This program uses MiniConda Python 3.6\n",
    "%matplotlib inline\n",
    "\n",
    "# !pip install numdifftools\n",
    "\n",
    "import matplotlib.pyplot as plt\n",
    "import numpy as np\n",
    "import pandas as pd\n",
    "# import numdifftools as nd\n",
    "from scipy.optimize import curve_fit as cf"
   ],
   "execution_count": 9,
   "outputs": []
  },
  {
   "cell_type": "code",
   "metadata": {
    "id": "xyPWyC9r8lvs",
    "colab": {
     "base_uri": "https://localhost:8080/"
    },
    "outputId": "6e08149e-3f74-4516-a173-8de44fa488aa",
    "pycharm": {
     "name": "#%%\n"
    }
   },
   "source": [
    "# from google.colab import drive\n",
    "# drive.mount('/content/drive')"
   ],
   "execution_count": 10,
   "outputs": []
  },
  {
   "cell_type": "code",
   "metadata": {
    "pycharm": {
     "name": "#%%\n"
    },
    "id": "Qpqh3NVJ2xpv"
   },
   "source": [
    "def func(x, a, b):\n",
    "    return a * np.exp(-b * (x))\n",
    "\n",
    "\n",
    "def output(x, y, p0):\n",
    "    popt, pcov = cf(func, x, y, p0)\n",
    "    # perr = np.sqrt(np.diag(pcov))\n",
    "    a = np.round(popt[0], 5)\n",
    "    b = np.round(popt[1], 5)\n",
    "    r_squared(x, y, a, b)\n",
    "    plot_curve(x, y, a, b)\n",
    "    return a, b\n"
   ],
   "execution_count": 11,
   "outputs": []
  },
  {
   "cell_type": "code",
   "metadata": {
    "pycharm": {
     "name": "#%%\n"
    },
    "id": "9q1GiHsTRwqD"
   },
   "source": [
    "\n",
    "def r_squared(x, y, a, b):\n",
    "    res = y - func(x, a, b)\n",
    "    ss_r = np.sum(res ** 2)\n",
    "    ss_tot = np.sum((y - np.mean(y) ** 2))\n",
    "    r_sq = np.round((1 - (ss_r / ss_tot)), 4)\n",
    "    print(f'R^2 = {r_sq}')\n",
    "    print(f'Curve Formula: y={a}*exp^(-{b}*(x)')\n",
    "\n",
    "\n",
    "def plot_curve(x, y, a, b):\n",
    "    x_est = np.arange(min(x), max(x))\n",
    "    y_est = func(x_est, a, b)\n",
    "    plt.figure(figsize=(8,8))\n",
    "    plt.scatter(x, y, s=12)\n",
    "    plt.plot(x_est, y_est, '--', color='red')\n",
    "    plt.show()\n"
   ],
   "execution_count": 12,
   "outputs": []
  },
  {
   "cell_type": "code",
   "metadata": {
    "pycharm": {
     "name": "#%%\n"
    },
    "id": "OYyT7Yja2xpw"
   },
   "source": [
    "# Load Bayer Curves\n",
    "# Data has media type to break into appropriate groups and run curves\n",
    "# all_coupons = pd.read_csv('/content/drive/My Drive/Colab_Notebooks/Bayer_Q4_2.csv')\n",
    "all_coupons = pd.read_csv('C:/Users/norri/Desktop/Bayer/Bayer_Exponential_Build.csv')\n",
    "p0 = [1.0, .05]"
   ],
   "execution_count": 13,
   "outputs": []
  },
  {
   "cell_type": "code",
   "metadata": {
    "pycharm": {
     "name": "#%%\n"
    },
    "id": "Fvzl06kE2xpw",
    "colab": {
     "base_uri": "https://localhost:8080/",
     "height": 535
    },
    "outputId": "1f41a732-a45f-47cc-cc80-49b6de208bd3"
   },
   "source": [
    "#Sunday FSI Curve\n",
    "sun_fsi = all_coupons[all_coupons[\"Media_Type\"] == \"Sunday Fsi\"]\n",
    "np_sun_fsi = sun_fsi[['Time_Since_Issue', 'Total_Dist_Percent']].to_numpy(dtype=float)\n",
    "\n",
    "x = np_sun_fsi[:, 0]\n",
    "y = np_sun_fsi[:, 1]\n",
    "\n",
    "print('Sunday FSI R^2 & Fit Chart')\n",
    "a, b = output(x, y, p0)"
   ],
   "execution_count": 14,
   "outputs": [
    {
     "name": "stdout",
     "output_type": "stream",
     "text": [
      "Sunday FSI R^2 & Fit Chart\n",
      "R^2 = 0.9206\n",
      "Curve Formula: y=0.08781*exp^(-0.00134*(x)\n"
     ]
    },
    {
     "data": {
      "text/plain": "<Figure size 576x576 with 1 Axes>",
      "image/png": "[encoded data removed]"
     },
     "metadata": {
      "needs_background": "light"
     },
     "output_type": "display_data"
    }
   ]
  },
  {
   "cell_type": "code",
   "metadata": {
    "pycharm": {
     "name": "#%%\n"
    },
    "id": "qdNhy-D42xpy",
    "colab": {
     "base_uri": "https://localhost:8080/",
     "height": 535
    },
    "outputId": "b6848518-08ac-4b10-ec18-bdbc3e24ef4d"
   },
   "source": [
    "#@title\n",
    "# Paperless Curve\n",
    "paperless = all_coupons[all_coupons[\"Media_Type\"] == \"Paperless\"]\n",
    "np_paperless = paperless[['Time_Since_Issue',\n",
    "                          'Total_Dist_Percent']].to_numpy(dtype=float)\n",
    "\n",
    "x = np_paperless[:, 0]\n",
    "y = np_paperless[:, 1]\n",
    "\n",
    "print('Paperless R^2 & Fit Chart')\n",
    "a, b = output(x, y, p0)"
   ],
   "execution_count": 23,
   "outputs": [
    {
     "name": "stdout",
     "output_type": "stream",
     "text": [
      "Paperless R^2 & Fit Chart\n",
      "R^2 = 0.4175\n",
      "Curve Formula: y=1.02963*exp^(-0.00124*(x)\n"
     ]
    },
    {
     "data": {
      "text/plain": "<Figure size 576x576 with 1 Axes>",
      "image/png": "[encoded data removed]"
     },
     "metadata": {
      "needs_background": "light"
     },
     "output_type": "display_data"
    },
    {
     "name": "stdout",
     "output_type": "stream",
     "text": [
      "                          Media_Type  Time_Since_Issue  Total_Dist_Percent\n",
      "0           Handout In-Store Tearpad               239                0.99\n",
      "1          Paperless + Print At Home                97                0.99\n",
      "2          Paperless + Print At Home                97                0.99\n",
      "3      Instant On-Pack Field Applied               199                0.99\n",
      "4      Instant On-Pack Field Applied               199                0.99\n",
      "..                               ...               ...                 ...\n",
      "458                 Handout Checkout               211                0.00\n",
      "459                 Handout Checkout               211                0.00\n",
      "460  Instant On-Pack Factory Applied               -15                0.00\n",
      "461  Instant On-Pack Factory Applied               -15                0.00\n",
      "462                       Sunday Fsi               -19                0.00\n",
      "\n",
      "[463 rows x 3 columns]\n"
     ]
    }
   ]
  },
  {
   "cell_type": "code",
   "metadata": {
    "pycharm": {
     "name": "#%%\n"
    },
    "id": "BkWNPf242xpz",
    "colab": {
     "base_uri": "https://localhost:8080/",
     "height": 363
    },
    "outputId": "b341854c-f2e9-4823-9dc9-15ddeb13bdb4"
   },
   "source": [
    "#@title\n",
    "# Paperless + Print At Home, Print at Home, Paperless + Print at Home Curve\n",
    "\n",
    "paper_print = all_coupons[all_coupons[\"Media_Type\"].isin([\"Paperless + Print at Home\",\n",
    "                                                          \"Print At Home\",\n",
    "                                                          \"Paperless + Print at Home + Handout\"])]\n",
    "\n",
    "np_paper_print = paper_print[['Time_Since_Issue', 'Total_Dist_Percent']].to_numpy(dtype=float)\n",
    "\n",
    "x = np_paper_print[:, 0]\n",
    "y = np_paper_print[:, 1]\n",
    "\n",
    "print('Paperless + Print Group R^2 & Fit Chart')\n",
    "a, b = output(x, y, p0)"
   ],
   "execution_count": 27,
   "outputs": [
    {
     "name": "stdout",
     "output_type": "stream",
     "text": [
      "Paperless + Print Group R^2 & Fit Chart\n",
      "R^2 = 0.2947\n",
      "Curve Formula: y=0.80895*exp^(--0.00024*(x)\n"
     ]
    },
    {
     "name": "stderr",
     "output_type": "stream",
     "text": [
      "C:\\Users\\norri\\AppData\\Local\\Temp\\ipykernel_13920\\4051671385.py:2: RuntimeWarning: overflow encountered in exp\n",
      "  return a * np.exp(-b * (x))\n"
     ]
    },
    {
     "data": {
      "text/plain": "<Figure size 576x576 with 1 Axes>",
      "image/png": "[encoded data removed]"
     },
     "metadata": {
      "needs_background": "light"
     },
     "output_type": "display_data"
    }
   ]
  },
  {
   "cell_type": "code",
   "metadata": {
    "pycharm": {
     "name": "#%%\n"
    },
    "id": "pLhzu3zj2xp0"
   },
   "source": [
    "#@title\n",
    "# HANDOUT, HANDOUT IN-STORE, HANDOUT IN-STORE DISPLAY, HANDOUT IN-STORE TEARPAD,\n",
    "# HANDOUT SHELF DISPENSER, HANDOUT WITH SAMPLE, INSTANT ON-PACK,\n",
    "# INSTANT ON-PACK FACTORY APPLIED, ON-PACK\n",
    "\n",
    "handout = all_coupons[all_coupons[\"Media_Type\"].\n",
    "isin([\"Handout\", \"Handout In-Store\",\n",
    "      \"Handout In-Store Display\",\n",
    "      \"Handout In-Store Tearpad\",\n",
    "      \"Handout Shelf Dispenser\",\n",
    "      \"Handout With Samole\", \"Instant On-Pack\",\n",
    "      \"On-Pack\"])]\n",
    "\n",
    "np_handout = handout[['Time_Since_Issue',\n",
    "                      'Total_Dist_Percent']].to_numpy(dtype=float)\n",
    "\n",
    "x = np_handout[:, 0]\n",
    "y = np_handout[:, 1]\n",
    "\n",
    "print('Handout Group R^2 & Fit Chart')\n",
    "a, b = output(x, y, p0)"
   ],
   "execution_count": 26,
   "outputs": [
    {
     "name": "stdout",
     "output_type": "stream",
     "text": [
      "Handout Group R^2 & Fit Chart\n",
      "R^2 = 0.3151\n",
      "Curve Formula: y=0.95091*exp^(-0.00055*(x)\n"
     ]
    },
    {
     "name": "stderr",
     "output_type": "stream",
     "text": [
      "C:\\Users\\norri\\AppData\\Local\\Temp\\ipykernel_13920\\4051671385.py:2: RuntimeWarning: overflow encountered in exp\n",
      "  return a * np.exp(-b * (x))\n"
     ]
    },
    {
     "data": {
      "text/plain": "<Figure size 576x576 with 1 Axes>",
      "image/png": "[encoded data removed]"
     },
     "metadata": {
      "needs_background": "light"
     },
     "output_type": "display_data"
    }
   ]
  },
  {
   "cell_type": "code",
   "metadata": {
    "pycharm": {
     "name": "#%%\n"
    },
    "id": "WZ0DTgmYEf6Z"
   },
   "source": [
    "#@title\n",
    "# All Other: MISCELLANEOUS MEDIA, DIRECT MAIL, DIRECT MAIL SOLO\n",
    "\n",
    "misc = all_coupons[all_coupons[\"Media_Type\"].isin([\"MISCELLANEOUS MEDIA\", \n",
    "                                                    \"DIRECT MAIL SOLO\",\n",
    "                                                    \"DIRECT MAIL\"])]\n",
    "\n",
    "np_misc = misc[['Time_Since_Issue',\n",
    "                'Total_Dist_Percent']].to_numpy(dtype=float)\n",
    "\n",
    "x = np_misc[:, 0]\n",
    "y = np_misc[:, 1]\n",
    "\n",
    "print('All Other Group R^2 & Fit Chart')\n",
    "a, b = output(x, y, p0)\n"
   ],
   "execution_count": 18,
   "outputs": [
    {
     "name": "stdout",
     "output_type": "stream",
     "text": [
      "All Other Group R^2 & Fit Chart\n"
     ]
    },
    {
     "ename": "ValueError",
     "evalue": "`ydata` must not be empty!",
     "output_type": "error",
     "traceback": [
      "\u001B[1;31m---------------------------------------------------------------------------\u001B[0m",
      "\u001B[1;31mValueError\u001B[0m                                Traceback (most recent call last)",
      "Input \u001B[1;32mIn [18]\u001B[0m, in \u001B[0;36m<cell line: 15>\u001B[1;34m()\u001B[0m\n\u001B[0;32m     12\u001B[0m y \u001B[38;5;241m=\u001B[39m np_misc[:, \u001B[38;5;241m1\u001B[39m]\n\u001B[0;32m     14\u001B[0m \u001B[38;5;28mprint\u001B[39m(\u001B[38;5;124m'\u001B[39m\u001B[38;5;124mAll Other Group R^2 & Fit Chart\u001B[39m\u001B[38;5;124m'\u001B[39m)\n\u001B[1;32m---> 15\u001B[0m a, b \u001B[38;5;241m=\u001B[39m \u001B[43moutput\u001B[49m\u001B[43m(\u001B[49m\u001B[43mx\u001B[49m\u001B[43m,\u001B[49m\u001B[43m \u001B[49m\u001B[43my\u001B[49m\u001B[43m,\u001B[49m\u001B[43m \u001B[49m\u001B[43mp0\u001B[49m\u001B[43m)\u001B[49m\n",
      "Input \u001B[1;32mIn [11]\u001B[0m, in \u001B[0;36moutput\u001B[1;34m(x, y, p0)\u001B[0m\n\u001B[0;32m      5\u001B[0m \u001B[38;5;28;01mdef\u001B[39;00m \u001B[38;5;21moutput\u001B[39m(x, y, p0):\n\u001B[1;32m----> 6\u001B[0m     popt, pcov \u001B[38;5;241m=\u001B[39m \u001B[43mcf\u001B[49m\u001B[43m(\u001B[49m\u001B[43mfunc\u001B[49m\u001B[43m,\u001B[49m\u001B[43m \u001B[49m\u001B[43mx\u001B[49m\u001B[43m,\u001B[49m\u001B[43m \u001B[49m\u001B[43my\u001B[49m\u001B[43m,\u001B[49m\u001B[43m \u001B[49m\u001B[43mp0\u001B[49m\u001B[43m)\u001B[49m\n\u001B[0;32m      7\u001B[0m     \u001B[38;5;66;03m# perr = np.sqrt(np.diag(pcov))\u001B[39;00m\n\u001B[0;32m      8\u001B[0m     a \u001B[38;5;241m=\u001B[39m np\u001B[38;5;241m.\u001B[39mround(popt[\u001B[38;5;241m0\u001B[39m], \u001B[38;5;241m5\u001B[39m)\n",
      "File \u001B[1;32m~\\.conda\\envs\\mercury-ds\\lib\\site-packages\\scipy\\optimize\\minpack.py:748\u001B[0m, in \u001B[0;36mcurve_fit\u001B[1;34m(f, xdata, ydata, p0, sigma, absolute_sigma, check_finite, bounds, method, jac, **kwargs)\u001B[0m\n\u001B[0;32m    745\u001B[0m         xdata \u001B[38;5;241m=\u001B[39m np\u001B[38;5;241m.\u001B[39masarray(xdata, \u001B[38;5;28mfloat\u001B[39m)\n\u001B[0;32m    747\u001B[0m \u001B[38;5;28;01mif\u001B[39;00m ydata\u001B[38;5;241m.\u001B[39msize \u001B[38;5;241m==\u001B[39m \u001B[38;5;241m0\u001B[39m:\n\u001B[1;32m--> 748\u001B[0m     \u001B[38;5;28;01mraise\u001B[39;00m \u001B[38;5;167;01mValueError\u001B[39;00m(\u001B[38;5;124m\"\u001B[39m\u001B[38;5;124m`ydata` must not be empty!\u001B[39m\u001B[38;5;124m\"\u001B[39m)\n\u001B[0;32m    750\u001B[0m \u001B[38;5;66;03m# Determine type of sigma\u001B[39;00m\n\u001B[0;32m    751\u001B[0m \u001B[38;5;28;01mif\u001B[39;00m sigma \u001B[38;5;129;01mis\u001B[39;00m \u001B[38;5;129;01mnot\u001B[39;00m \u001B[38;5;28;01mNone\u001B[39;00m:\n",
      "\u001B[1;31mValueError\u001B[0m: `ydata` must not be empty!"
     ]
    }
   ]
  }
 ]
}