{
 "nbformat": 4,
 "nbformat_minor": 0,
 "metadata": {
  "kernelspec": {
   "name": "python3",
   "language": "python",
   "display_name": "Python 3 (ipykernel)"
  },
  "language_info": {
   "codemirror_mode": {
    "name": "ipython",
    "version": 2
   },
   "file_extension": ".py",
   "mimetype": "text/x-python",
   "name": "python",
   "nbconvert_exporter": "python",
   "pygments_lexer": "ipython2",
   "version": "2.7.6"
  },
  "colab": {
   "name": "Redemption Curves.ipynb",
   "provenance": []
  }
 },
 "cells": [
  {
   "cell_type": "markdown",
   "metadata": {
    "id": "VOJy_xw2RV9-"
   },
   "source": [
    "## Redemption Decay Functions for Reconciliation Estimation"
   ]
  },
  {
   "cell_type": "markdown",
   "source": [
    "DATASET CONSTRUCTION INFORMATION\n"
   ],
   "metadata": {
    "collapsed": false
   }
  },
  {
   "cell_type": "markdown",
   "source": [
    "This file describes the creation of the initial dataset used to model coupon redemption for Bayer.\n",
    "Monthly finance reports were provided by Bayer. Each report contained a list of coupons, issue dates,\n",
    "and redemption numbers. The reports were combined into one large dataset. Only coupons with data\n",
    "greater than 30 days since issue were included. Three variables, two final and one intermediate, were created.\n",
    "\n",
    "1. Sum_PERIOD-QTY: contained the sum total of redemptions for each coupon for all periods.\n",
    "2. Total_Dist_Percent: each period's redemption per coupon divided by the Sum-Period-QTY.\n",
    "3. Days_Since_Issue: calculated the number of days since coupon issue.\n",
    "\n",
    "Variables 2 and 3 were used in the Python program.\n",
    "\n",
    "NOTE: the data provided was monthly. This prevented modeling the first few weeks of any given coupon, meaning coupon forecasting\n",
    "is only possible after 30 days. Also, after filtering criteria, some coupon types did not have enough samples for accurate modeling,\n",
    "and were either grouped together by similarity or defaulted to Budget Cost Life."
   ],
   "metadata": {
    "collapsed": false
   }
  },
  {
   "cell_type": "code",
   "execution_count": 15,
   "outputs": [],
   "source": [
    "import matplotlib.pyplot as plt\n",
    "import numpy as np\n",
    "import pandas as pd\n",
    "from scipy.optimize import curve_fit as cf\n",
    "from datetime import date"
   ],
   "metadata": {
    "collapsed": false
   }
  },
  {
   "cell_type": "code",
   "execution_count": 2,
   "outputs": [],
   "source": [
    "def func(x, a, b):\n",
    "    \"\"\"\n",
    "    This function defines the formula\n",
    "    That we are optimizing, note that since\n",
    "    The exponential function (non-normalized)\n",
    "    \"Has two parameters\" of interest\n",
    "    :param x: Percentage completed redemption in one period\n",
    "    :param a: constant coefficient\n",
    "    :param b: coefficient for x in the exponent of e\n",
    "    :return: returns a and b, the best estimates for the curve\n",
    "    \"\"\"\n",
    "    return a * np.exp(-b * (x))"
   ],
   "metadata": {
    "collapsed": false
   }
  },
  {
   "cell_type": "code",
   "execution_count": 3,
   "outputs": [],
   "source": [
    "def r_squared(x, y, a, b):\n",
    "    \"\"\"\n",
    "    Calculates r-squared, accurate for fitting best fit line\n",
    "    :param x: x observations\n",
    "    :param y: y observations\n",
    "    :param a: coefficient estimate returned from func\n",
    "    :param b: coefficient estimate returned from func\n",
    "    :return: r-squared calculation and printout\n",
    "    \"\"\"\n",
    "    res = y - func(x, a, b)\n",
    "    ss_r = np.sum(res ** 2)\n",
    "    ss_tot = np.sum((y - np.mean(y) ** 2))\n",
    "    r_sq = np.round((1 - (ss_r / ss_tot)), 4)\n",
    "    print(f'R^2 = {r_sq}')\n",
    "    print(f'Curve Formula: y={a}*exp^(-{b}*(x)')"
   ],
   "metadata": {
    "collapsed": false
   }
  },
  {
   "cell_type": "code",
   "execution_count": 4,
   "outputs": [],
   "source": [
    "def plot_curve(x, y, a, b):\n",
    "    \"\"\"\n",
    "    Converts the existing x and y data and the\n",
    "    best fit curve parameters a and b to create\n",
    "    a plot\n",
    "    :param x:\n",
    "    :param y:\n",
    "    :param a:\n",
    "    :param b:\n",
    "    :return:\n",
    "    \"\"\"\n",
    "    x_est = np.arange(min(x), max(x))\n",
    "    y_curve = a*np.exp(-b*x_est)\n",
    "    plt.figure(figsize=(8,8))\n",
    "    plt.scatter(x, y, s=12)\n",
    "    plt.plot(x_est, y_curve, '--', color='red')\n",
    "    plt.show()"
   ],
   "metadata": {
    "collapsed": false
   }
  },
  {
   "cell_type": "code",
   "execution_count": 5,
   "outputs": [],
   "source": [
    "def output(x, y, p0):\n",
    "    \"\"\"\n",
    "    This combines all the functions and\n",
    "    creates the plot, formula for estimates\n",
    "    and r-squared\n",
    "    :param x: x data\n",
    "    :param y: y data\n",
    "    :param p0: interval in which the curve-fitting\n",
    "    function begins its search\n",
    "    :return: plot of data against estimate, model formula\n",
    "    estimate, and r-squared\n",
    "    \"\"\"\n",
    "    popt, pcov = cf(func, x, y, p0)\n",
    "    a = np.round(popt[0], 5)\n",
    "    b = np.round(popt[1], 5)\n",
    "    r_squared(x, y, a, b)\n",
    "    plot_curve(x, y, a, b)\n",
    "    return a, b"
   ],
   "metadata": {
    "collapsed": false
   }
  },
  {
   "cell_type": "markdown",
   "source": [
    "Example of Data Prep for Curve Formula function\n",
    "It reads in each financial file, keeps only the days since\n",
    "the issuance of the coupon, the percent remaining to be redeemed,\n",
    "and the offer type"
   ],
   "metadata": {
    "collapsed": false
   }
  },
  {
   "cell_type": "code",
   "execution_count": 38,
   "outputs": [],
   "source": [
    "coupon_four = pd.read_excel('/home/matt/DataspellProjects/mercury-ds/attribution/Bayer/Finance Total Report 2020-4.xlsx')\n",
    "coupon_four = coupon_four[['ISSUE DATE', 'CUM RED PCT', 'MEDIA LONG DESCRIPTION']]"
   ],
   "metadata": {
    "collapsed": false
   }
  },
  {
   "cell_type": "code",
   "execution_count": 39,
   "outputs": [],
   "source": [
    "coupon_four = coupon_four.rename(columns = {'ISSUE DATE': 'Issue_Date',\n",
    "                                            'CUM RED PCT': 'Total_Dist_Percent', 'MEDIA LONG DESCRIPTION': 'Media_Type'})\n",
    "coupon_four['Total_Dist_Percent'] = coupon_four['Total_Dist_Percent'] / 100"
   ],
   "metadata": {
    "collapsed": false
   }
  },
  {
   "cell_type": "code",
   "execution_count": 40,
   "outputs": [],
   "source": [
    "coupon_four = coupon_four[coupon_four.Issue_Date != '00/00/0000']\n",
    "coupon_four['Report_Date'] = date(2021, 4, 1)\n",
    "coupon_four['Time_Since_Issue'] = (coupon_four['Report_Date'] - pd.to_datetime(coupon_four['Issue_Date']).dt.date).dt.days"
   ],
   "metadata": {
    "collapsed": false
   }
  },
  {
   "cell_type": "code",
   "execution_count": 41,
   "outputs": [],
   "source": [
    "coupon_four = coupon_four[['Time_Since_Issue', 'Media_Type', 'Total_Dist_Percent']]"
   ],
   "metadata": {
    "collapsed": false
   }
  },
  {
   "cell_type": "markdown",
   "source": [
    "By stacking each month's coupon redemption data, you will be able to generate a formula\n",
    "that will tell you what percentage of the total coupon redemption\n",
    "remains, and therefore how much more money should be allocated to said coupon"
   ],
   "metadata": {
    "collapsed": false
   }
  },
  {
   "cell_type": "code",
   "execution_count": 7,
   "outputs": [
    {
     "name": "stdout",
     "output_type": "stream",
     "text": [
      "Time_Since_Issue      232\n",
      "Media_Type             20\n",
      "Total_Dist_Percent    380\n",
      "dtype: int64\n",
      "Sunday Fsi                             1098\n",
      "Paperless + Print At Home               200\n",
      "Handout Checkout                        152\n",
      "Paperless                                94\n",
      "Handout In-Store Tearpad                 90\n",
      "Handout From A Medical Location          87\n",
      "Print At Home                            65\n",
      "Handout Shelf Dispenser                  47\n",
      "Handout In-Store                         31\n",
      "In-Pack                                  22\n",
      "Direct Mail                              13\n",
      "Instant On-Pack Factory Applied          13\n",
      "Handout With Sample                      12\n",
      "On-Pack                                  12\n",
      "Miscellaneous Media                      10\n",
      "Paperless + Print At Home + Handout       6\n",
      "Direct Mail Solo                          6\n",
      "Handout In-Store Display                  4\n",
      "Handout                                   2\n",
      "Instant On-Pack                           1\n",
      "Name: Media_Type, dtype: int64\n"
     ]
    }
   ],
   "source": [
    "# Load Bayer Curves\n",
    "# Data has media type to break into appropriate groups and run curves\n",
    "\n",
    "all_coupons = pd.read_csv('/home/matt/DataspellProjects/mercury-ds/attribution/Bayer/bayer_curves.csv')\n",
    "p0 = [1.0, .05]\n",
    "print(all_coupons.nunique())\n",
    "print(all_coupons['Media_Type'].value_counts())"
   ],
   "metadata": {
    "collapsed": false
   }
  },
  {
   "cell_type": "code",
   "execution_count": null,
   "outputs": [],
   "source": [
    "#Sunday FSI Curve, creates subset based on media type (or coupon type)\n",
    "sun_fsi = all_coupons[all_coupons[\"Media_Type\"] == \"Sunday Fsi\"]\n",
    "np_sun_fsi = sun_fsi[['Time_Since_Issue', 'Total_Dist_Percent']].to_numpy(dtype=float)\n",
    "\n",
    "# Takes the subset by media type and reduces it into a numpy array\n",
    "# containing the Time Since Issue and Total Distribution Percent data\n",
    "x = np_sun_fsi[:, 0]\n",
    "y = np_sun_fsi[:, 1]\n",
    "\n",
    "# Provides plots and estimates\n",
    "print('Sunday FSI R^2 & Fit Chart')\n",
    "a, b = output(x, y, p0)"
   ],
   "metadata": {
    "collapsed": false
   }
  },
  {
   "cell_type": "code",
   "execution_count": null,
   "outputs": [],
   "source": [
    "#@title\n",
    "# Paperless Curve\n",
    "paperless = all_coupons[all_coupons[\"Media_Type\"] == \"Paperless\"]\n",
    "np_paperless = paperless[['Time_Since_Issue',\n",
    "                          'Total_Dist_Percent']].to_numpy(dtype=float)\n",
    "\n",
    "x = np_paperless[:, 0]\n",
    "y = np_paperless[:, 1]\n",
    "\n",
    "print('Paperless R^2 & Fit Chart')\n",
    "a, b = output(x, y, p0)"
   ],
   "metadata": {
    "collapsed": false
   }
  },
  {
   "cell_type": "code",
   "execution_count": null,
   "outputs": [],
   "source": [
    "#@title\n",
    "# Paperless + Print At Home, Print at Home, Paperless + Print at Home Curve\n",
    "\n",
    "paper_print = all_coupons[all_coupons[\"Media_Type\"].isin([\"Paperless + Print at Home\",\n",
    "                                                          \"Print At Home\",\n",
    "                                                          \"Paperless + Print at Home + Handout\"])]\n",
    "\n",
    "np_paper_print = paper_print[['Time_Since_Issue', 'Total_Dist_Percent']].to_numpy(dtype=float)\n",
    "\n",
    "x = np_paper_print[:, 0]\n",
    "y = np_paper_print[:, 1]\n",
    "\n",
    "print('Paperless + Print Group R^2 & Fit Chart')\n",
    "a, b = output(x, y, p0)"
   ],
   "metadata": {
    "collapsed": false
   }
  },
  {
   "cell_type": "code",
   "execution_count": null,
   "outputs": [],
   "source": [
    "#@title\n",
    "# HANDOUT, HANDOUT IN-STORE, HANDOUT IN-STORE DISPLAY, HANDOUT IN-STORE TEARPAD,\n",
    "# HANDOUT SHELF DISPENSER, HANDOUT WITH SAMPLE, INSTANT ON-PACK,\n",
    "# INSTANT ON-PACK FACTORY APPLIED, ON-PACK\n",
    "\n",
    "handout = all_coupons[all_coupons[\"Media_Type\"].\n",
    "isin([\"Handout\", \"Handout In-Store\",\n",
    "      \"Handout In-Store Display\",\n",
    "      \"Handout In-Store Tearpad\",\n",
    "      \"Handout Shelf Dispenser\",\n",
    "      \"Handout With Samole\", \"Instant On-Pack\",\n",
    "      \"On-Pack\"])]\n",
    "\n",
    "np_handout = handout[['Time_Since_Issue',\n",
    "                      'Total_Dist_Percent']].to_numpy(dtype=float)\n",
    "\n",
    "x = np_handout[:, 0]\n",
    "y = np_handout[:, 1]\n",
    "\n",
    "print('Handout Group R^2 & Fit Chart')\n",
    "a, b = output(x, y, p0)"
   ],
   "metadata": {
    "collapsed": false
   }
  },
  {
   "cell_type": "code",
   "execution_count": null,
   "outputs": [],
   "source": [
    "#@title\n",
    "# All Other: MISCELLANEOUS MEDIA, DIRECT MAIL, DIRECT MAIL SOLO\n",
    "\n",
    "misc = all_coupons[all_coupons[\"Media_Type\"].isin([\"Miscellaneous Media\",\n",
    "                                                    \"Direct Mail Solo\",\n",
    "                                                    \"Direct Mail\"])]\n",
    "\n",
    "np_misc = misc[['Time_Since_Issue',\n",
    "                'Total_Dist_Percent']].to_numpy(dtype=float)\n",
    "\n",
    "x = np_misc[:, 0]\n",
    "y = np_misc[:, 1]\n",
    "\n",
    "print('All Other Group R^2 & Fit Chart')\n",
    "a, b = output(x, y, p0)"
   ],
   "metadata": {
    "collapsed": false
   }
  },
  {
   "cell_type": "code",
   "execution_count": null,
   "outputs": [],
   "source": [],
   "metadata": {
    "collapsed": false
   }
  }
 ]
}
