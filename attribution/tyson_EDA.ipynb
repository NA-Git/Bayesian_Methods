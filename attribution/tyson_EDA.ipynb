{
 "cells": [
  {
   "cell_type": "markdown",
   "source": [
    "#### The purpose of this EDA notebook is the following:\n",
    "- Better understand the nature of the relationship between the independent variables\n",
    "- Create an initial model with reasonable economic assumptions that may be dropped in later versions\n",
    "- Explore methods of imputation for missing variables to provide more data samples\n",
    "- Avoid linear combinations that might be more difficult to spot in the Bayesian Modeling process\n",
    "- Establish a reasonable measure of variable importance, which along with correlation plots may inform initial hierarchies\n",
    "- Create visualizations of poor quality data and also establish probability distributions for the likelihood function"
   ],
   "metadata": {
    "collapsed": false,
    "pycharm": {
     "name": "#%% md\n"
    }
   }
  },
  {
   "cell_type": "markdown",
   "source": [
    "#### 1. Import data and necessary packages"
   ],
   "metadata": {
    "collapsed": false,
    "pycharm": {
     "name": "#%% md\n"
    }
   }
  },
  {
   "cell_type": "code",
   "execution_count": 4,
   "outputs": [],
   "source": [
    "import os\n",
    "# os.environ['KERAS_BACKEND'] = 'theano'\n",
    "# os.environ['THEANO_FLAGS']='mode=FAST_RUN,device=cuda0,optimizer=fast_compile'\n",
    "\n",
    "import pandas as pd\n",
    "import numpy as np\n",
    "import matplotlib.pyplot as plt\n",
    "%matplotlib inline\n",
    "import seaborn as sns\n",
    "sns.set_style('darkgrid')\n",
    "# from rfpimp import *\n",
    "# from rfpimp import plot_corr_heatmap\n",
    "from sklearn.ensemble import RandomForestRegressor, RandomForestClassifier\n",
    "from sklearn.model_selection import train_test_split\n",
    "from sklearn.linear_model import LinearRegression\n",
    "from sklearn import metrics\n",
    "from scipy.optimize import curve_fit\n",
    "from scipy.stats import linregress\n",
    "from sklearn.decomposition import PCA\n",
    "from sklearn.discriminant_analysis import LinearDiscriminantAnalysis\n",
    "from sklearn.metrics import accuracy_score, mean_squared_error\n",
    "from sklearn.preprocessing import StandardScaler\n",
    "from multiprocessing import Pool\n",
    "import importlib\n",
    "from sklearn.inspection import permutation_importance\n",
    "# import category_encoders as ce\n",
    "# from catboost import CatBoostRegressor, Pool\n",
    "import arviz as az\n",
    "import pymc3 as pm\n",
    "import theano\n",
    "import theano.tensor as tt\n",
    "from sklearn import preprocessing\n",
    "# import shap\n",
    "import mkl\n",
    "from statsmodels.stats.outliers_influence import variance_inflation_factor\n",
    "from fitter import Fitter, get_common_distributions, get_distributions\n",
    "import xarray\n",
    "from sklearn.metrics import mean_squared_error\n",
    "from pymc3.variational.callbacks import CheckParametersConvergence\n",
    "\n",
    "# %load_ext timeit\n",
    "# %load_ext heat\n",
    "# %load_ext line_profiler\n",
    "# %load_ext memory_profiler"
   ],
   "metadata": {
    "collapsed": false,
    "pycharm": {
     "name": "#%%\n"
    }
   }
  },
  {
   "cell_type": "code",
   "execution_count": 5,
   "outputs": [
    {
     "name": "stdout",
     "output_type": "stream",
     "text": [
      "<class 'pandas.core.frame.DataFrame'>\n",
      "RangeIndex: 82209 entries, 0 to 82208\n",
      "Data columns (total 89 columns):\n",
      " #   Column                                            Non-Null Count  Dtype  \n",
      "---  ------                                            --------------  -----  \n",
      " 0   ClientId                                          82209 non-null  int64  \n",
      " 1   Program Id                                        82209 non-null  int64  \n",
      " 2   Program Name                                      82209 non-null  object \n",
      " 3   Retailers                                         82209 non-null  object \n",
      " 4   TacticId                                          82209 non-null  int64  \n",
      " 5   Tactic                                            82209 non-null  object \n",
      " 6   CategoryId                                        82209 non-null  int64  \n",
      " 7   Tactic Category                                   82209 non-null  object \n",
      " 8   VendorId                                          80053 non-null  float64\n",
      " 9   Vendor                                            82209 non-null  object \n",
      " 10  Total Impressions for Tactic                      82209 non-null  int64  \n",
      " 11  Total Tactic Spend                                82209 non-null  float64\n",
      " 12  Total Tactic Insertion Cost                       82209 non-null  float64\n",
      " 13  Total Tactic Redemption Cost                      82209 non-null  float64\n",
      " 14  Tactic Start Date                                 82209 non-null  object \n",
      " 15  Tactic End Date                                   82209 non-null  object \n",
      " 16  BrandId                                           82209 non-null  int64  \n",
      " 17  Brand                                             82209 non-null  object \n",
      " 18  Nielsen_Week_Year                                 82209 non-null  int64  \n",
      " 19  StoreCount                                        82209 non-null  int64  \n",
      " 20  RMN                                               82209 non-null  object \n",
      " 21  Weeks                                             82209 non-null  int64  \n",
      " 22  Impressions per Week                              82209 non-null  float64\n",
      " 23  Brand Share of Program Budget                     82209 non-null  float64\n",
      " 24  Brand Share of Total Tactic Spend                 82209 non-null  float64\n",
      " 25  Brand Share of Tactic Insertion Cost              82209 non-null  float64\n",
      " 26  Brand Share of Tactic Redemption Cost             82209 non-null  float64\n",
      " 27  Weekly Brand Share of Total Tactic Spend          82209 non-null  float64\n",
      " 28  Weekly Brand Share of Tactic Insertion Cost       82209 non-null  float64\n",
      " 29  Weekly Brand Share of Tactic Redemption Cost      82209 non-null  float64\n",
      " 30  Total Sales                                       54886 non-null  float64\n",
      " 31  Base $                                            54886 non-null  float64\n",
      " 32  Incr $                                            54886 non-null  float64\n",
      " 33  Units                                             54886 non-null  float64\n",
      " 34  Base Units                                        54886 non-null  float64\n",
      " 35  Incr Units                                        54886 non-null  float64\n",
      " 36  Avg Unit Price                                    54886 non-null  float64\n",
      " 37  Any Promo Units                                   54886 non-null  float64\n",
      " 38  %ACV Distribution                                 54886 non-null  float64\n",
      " 39  Any Promo %ACV                                    54886 non-null  float64\n",
      " 40  Disp w/o Feat %ACV                                54886 non-null  float64\n",
      " 41  Feat & Disp %ACV                                  54886 non-null  float64\n",
      " 42  Feat w/o Disp %ACV                                54886 non-null  float64\n",
      " 43  Price Decr Only %ACV                              54886 non-null  float64\n",
      " 44  Number of UPCs Selling                            54886 non-null  float64\n",
      " 45  $ Shr - Ty Subcategory                            15099 non-null  float64\n",
      " 46  Units Shr - Ty Category                           7575 non-null   float64\n",
      " 47  Units Shr - Ty Subcategory                        15099 non-null  float64\n",
      " 48  Product                                           82209 non-null  object \n",
      " 49  Geography                                         82209 non-null  object \n",
      " 50  Time                                              82209 non-null  object \n",
      " 51  Dollar Sales                                      82208 non-null  float64\n",
      " 52  Dollar Sales No Merch                             81925 non-null  float64\n",
      " 53  Dollar Sales Any Merch                            80748 non-null  float64\n",
      " 54  Dollar Sales Price Reductions Only                79697 non-null  float64\n",
      " 55  Dollar Sales Feature Only                         46968 non-null  float64\n",
      " 56  Dollar Sales Display Only                         65962 non-null  float64\n",
      " 57  Dollar Sales Feature and Display                  38012 non-null  float64\n",
      " 58  Dollar Sales Feature and/or Display               70355 non-null  float64\n",
      " 59  Dollar Sales Any Price Reduction                  80159 non-null  float64\n",
      " 60  Dollar Sales Any Feature                          46979 non-null  float64\n",
      " 61  Dollar Sales Any Display                          66640 non-null  float64\n",
      " 62  Base Dollar Sales                                 82208 non-null  float64\n",
      " 63  Incremental Dollars                               80748 non-null  float64\n",
      " 64  Unit Sales                                        82208 non-null  float64\n",
      " 65  Unit Sales No Merch                               81925 non-null  float64\n",
      " 66  Unit Sales Any Merch                              80748 non-null  float64\n",
      " 67  Base Unit Sales                                   82208 non-null  float64\n",
      " 68  Incremental Units                                 80748 non-null  float64\n",
      " 69  Price per Unit                                    82208 non-null  float64\n",
      " 70  Total Points of Distribution                      82208 non-null  float64\n",
      " 71  ACV Weighted Distribution                         82208 non-null  float64\n",
      " 72  ACV Weighted Distribution Any Merch               80748 non-null  float64\n",
      " 73  ACV Weighted Distribution Price Reductions Only   79697 non-null  float64\n",
      " 74  ACV Weighted Distribution Feature Only            46968 non-null  float64\n",
      " 75  ACV Weighted Distribution Display Only            65962 non-null  float64\n",
      " 76  ACV Weighted Distribution Feature and Display     38012 non-null  float64\n",
      " 77  ACV Weighted Distribution Feature and/or Display  70355 non-null  float64\n",
      " 78  ACV Weighted Distribution Any Price Reduction     80159 non-null  float64\n",
      " 79  ACV Weighted Distribution Any Feature             46979 non-null  float64\n",
      " 80  ACV Weighted Distribution Any Display             66640 non-null  float64\n",
      " 81  Avg Weekly Items per Store Selling                82208 non-null  float64\n",
      " 82  Avg Weekly Units per Store Selling                82208 non-null  float64\n",
      " 83  Avg Weekly Dollars per Store Selling              82208 non-null  float64\n",
      " 84  Dollar Sales per Pt of Distribution               82208 non-null  float64\n",
      " 85  Unit Sales per Pt of Distribution                 82208 non-null  float64\n",
      " 86  Number of Stores Selling                          82208 non-null  float64\n",
      " 87  Weighted Average Base Price Per Unit              82208 non-null  float64\n",
      " 88  Number of Stores                                  82209 non-null  int64  \n",
      "dtypes: float64(67), int64(10), object(12)\n",
      "memory usage: 55.8+ MB\n"
     ]
    }
   ],
   "source": [
    "df = pd.read_csv('C:/Users/norri/Desktop/cortex_Push_2.csv')\n",
    "df_bu = df\n",
    "df.describe()\n",
    "df.info()"
   ],
   "metadata": {
    "collapsed": false,
    "pycharm": {
     "name": "#%%\n"
    }
   }
  },
  {
   "cell_type": "markdown",
   "source": [
    "Pandas dataframes will have string, int, and float columns. The following\n",
    "three sections will look for columns that need to be fixed or ped altogether"
   ],
   "metadata": {
    "collapsed": false,
    "pycharm": {
     "name": "#%% md\n"
    }
   }
  },
  {
   "cell_type": "markdown",
   "source": [
    "##### The following few sections analyze categorical, float, and int variables\n",
    "##### so the dataset can be cleaned"
   ],
   "metadata": {
    "collapsed": false,
    "pycharm": {
     "name": "#%% md\n"
    }
   }
  },
  {
   "cell_type": "code",
   "execution_count": 6,
   "outputs": [
    {
     "name": "stdout",
     "output_type": "stream",
     "text": [
      "There are 6 categorical variables\n",
      "\n",
      "The categorical variables are :\n",
      "\n",
      " ['Tactic Category', 'Brand', 'RMN', 'Product', 'Geography', 'Time']\n",
      "Tactic Category    0.0\n",
      "Brand              0.0\n",
      "RMN                0.0\n",
      "Product            0.0\n",
      "Geography          0.0\n",
      "Time               0.0\n",
      "dtype: float64\n",
      "<class 'pandas.core.frame.DataFrame'>\n",
      "RangeIndex: 82209 entries, 0 to 82208\n",
      "Data columns (total 6 columns):\n",
      " #   Column           Non-Null Count  Dtype \n",
      "---  ------           --------------  ----- \n",
      " 0   Tactic Category  82209 non-null  object\n",
      " 1   Brand            82209 non-null  object\n",
      " 2   RMN              82209 non-null  object\n",
      " 3   Product          82209 non-null  object\n",
      " 4   Geography        82209 non-null  object\n",
      " 5   Time             82209 non-null  object\n",
      "dtypes: object(6)\n",
      "memory usage: 3.8+ MB\n",
      "Tactic Category     12\n",
      "Brand               36\n",
      "RMN                  2\n",
      "Product            121\n",
      "Geography           11\n",
      "Time                76\n",
      "dtype: int64\n"
     ]
    }
   ],
   "source": [
    "df = df.drop(['Program Name', 'Retailers', 'Tactic', 'Vendor', 'Tactic Start Date',\n",
    "              'Tactic End Date'], axis=1)\n",
    "segment = [var for var in df.columns if df[var].dtype == 'O']\n",
    "print('There are {} categorical variables\\n'.format(len(segment)))\n",
    "print('The categorical variables are :\\n\\n', segment)\n",
    "print(df[segment].isnull().sum() / len(df))\n",
    "df_cat = df.select_dtypes(include=object)\n",
    "df_cat.info()\n",
    "df_cat.describe()\n",
    "print(df_cat.nunique())"
   ],
   "metadata": {
    "collapsed": false,
    "pycharm": {
     "name": "#%%\n"
    }
   }
  },
  {
   "cell_type": "code",
   "execution_count": 7,
   "outputs": [],
   "source": [
    "df.RMN.replace(('Yes', 'No'), (1, 0), inplace=True)"
   ],
   "metadata": {
    "collapsed": false,
    "pycharm": {
     "name": "#%%\n"
    }
   }
  },
  {
   "cell_type": "code",
   "execution_count": 8,
   "outputs": [
    {
     "data": {
      "text/plain": "<Figure size 432x288 with 1 Axes>",
      "image/png": "[encoded data removed]"
     },
     "metadata": {},
     "output_type": "display_data"
    },
    {
     "data": {
      "text/plain": "<Figure size 432x288 with 1 Axes>",
      "image/png": "[encoded data removed]"
     },
     "metadata": {},
     "output_type": "display_data"
    }
   ],
   "source": [
    "for col in df.select_dtypes(include='object'):\n",
    "    if df[col].nunique() <= 25:\n",
    "        sns.countplot(y=col, data=df)\n",
    "        plt.show()"
   ],
   "metadata": {
    "collapsed": false,
    "pycharm": {
     "name": "#%%\n"
    }
   }
  },
  {
   "cell_type": "code",
   "execution_count": 9,
   "outputs": [
    {
     "name": "stdout",
     "output_type": "stream",
     "text": [
      "There are 11 integer variables\n",
      "\n",
      "The integer variables are :\n",
      "\n",
      " ['ClientId', 'Program Id', 'TacticId', 'CategoryId', 'Total Impressions for Tactic', 'BrandId', 'Nielsen_Week_Year', 'StoreCount', 'RMN', 'Weeks', 'Number of Stores']\n",
      "ClientId                        0\n",
      "Program Id                      0\n",
      "TacticId                        0\n",
      "CategoryId                      0\n",
      "Total Impressions for Tactic    0\n",
      "BrandId                         0\n",
      "Nielsen_Week_Year               0\n",
      "StoreCount                      0\n",
      "RMN                             0\n",
      "Weeks                           0\n",
      "Number of Stores                0\n",
      "dtype: int64\n",
      "<class 'pandas.core.frame.DataFrame'>\n",
      "RangeIndex: 82209 entries, 0 to 82208\n",
      "Data columns (total 11 columns):\n",
      " #   Column                        Non-Null Count  Dtype\n",
      "---  ------                        --------------  -----\n",
      " 0   ClientId                      82209 non-null  int64\n",
      " 1   Program Id                    82209 non-null  int64\n",
      " 2   TacticId                      82209 non-null  int64\n",
      " 3   CategoryId                    82209 non-null  int64\n",
      " 4   Total Impressions for Tactic  82209 non-null  int64\n",
      " 5   BrandId                       82209 non-null  int64\n",
      " 6   Nielsen_Week_Year             82209 non-null  int64\n",
      " 7   StoreCount                    82209 non-null  int64\n",
      " 8   RMN                           82209 non-null  int64\n",
      " 9   Weeks                         82209 non-null  int64\n",
      " 10  Number of Stores              82209 non-null  int64\n",
      "dtypes: int64(11)\n",
      "memory usage: 6.9 MB\n"
     ]
    }
   ],
   "source": [
    "# df = df.drop(\n",
    "#     [], axis=1)\n",
    "integer = [var for var in df.columns if df[var].dtype == 'int64']\n",
    "print('There are {} integer variables\\n'.format(len(integer)))\n",
    "print('The integer variables are :\\n\\n', integer)\n",
    "print(df[integer].isnull().sum())\n",
    "df_int = df.select_dtypes(include=int)\n",
    "if len(df_int.columns) > 0.0:\n",
    "    df_int.info()\n",
    "    df_int.describe()"
   ],
   "metadata": {
    "collapsed": false,
    "pycharm": {
     "name": "#%%\n"
    }
   }
  },
  {
   "cell_type": "markdown",
   "source": [
    "##### In the below section we address the large number of missing s and also\n",
    "##### the columns consisting entirely of zeroes, and drop them accordingly"
   ],
   "metadata": {
    "collapsed": false,
    "pycharm": {
     "name": "#%% md\n"
    }
   }
  },
  {
   "cell_type": "code",
   "execution_count": 10,
   "outputs": [
    {
     "name": "stdout",
     "output_type": "stream",
     "text": [
      "There are 60 float variables\n",
      "\n",
      "The float variables are :\n",
      "\n",
      " ['VendorId', 'Total Tactic Spend', 'Total Tactic Insertion Cost', 'Total Tactic Redemption Cost', 'Impressions per Week', 'Brand Share of Program Budget', 'Brand Share of Total Tactic Spend', 'Brand Share of Tactic Insertion Cost', 'Brand Share of Tactic Redemption Cost', 'Weekly Brand Share of Total Tactic Spend', 'Weekly Brand Share of Tactic Insertion Cost', 'Weekly Brand Share of Tactic Redemption Cost', 'Total Sales', 'Units', 'Avg Unit Price', 'Any Promo Units', '%ACV Distribution', 'Any Promo %ACV', 'Disp w/o Feat %ACV', 'Feat & Disp %ACV', 'Feat w/o Disp %ACV', 'Price Decr Only %ACV', 'Number of UPCs Selling', 'Dollar Sales', 'Dollar Sales No Merch', 'Dollar Sales Any Merch', 'Dollar Sales Price Reductions Only', 'Dollar Sales Feature Only', 'Dollar Sales Display Only', 'Dollar Sales Feature and Display', 'Dollar Sales Feature and/or Display', 'Dollar Sales Any Price Reduction', 'Dollar Sales Any Feature', 'Dollar Sales Any Display', 'Base Dollar Sales', 'Incremental Dollars', 'Unit Sales', 'Unit Sales No Merch', 'Unit Sales Any Merch', 'Base Unit Sales', 'Incremental Units', 'Price per Unit', 'Total Points of Distribution', 'ACV Weighted Distribution', 'ACV Weighted Distribution Any Merch', 'ACV Weighted Distribution Price Reductions Only', 'ACV Weighted Distribution Feature Only', 'ACV Weighted Distribution Display Only', 'ACV Weighted Distribution Feature and Display', 'ACV Weighted Distribution Feature and/or Display', 'ACV Weighted Distribution Any Price Reduction', 'ACV Weighted Distribution Any Feature', 'ACV Weighted Distribution Any Display', 'Avg Weekly Items per Store Selling', 'Avg Weekly Units per Store Selling', 'Avg Weekly Dollars per Store Selling', 'Dollar Sales per Pt of Distribution', 'Unit Sales per Pt of Distribution', 'Number of Stores Selling', 'Weighted Average Base Price Per Unit']\n",
      "Total Sales                                         33.236020\n",
      "Units                                               33.236020\n",
      "Avg Unit Price                                      33.236020\n",
      "Any Promo Units                                     33.236020\n",
      "%ACV Distribution                                   33.236020\n",
      "Any Promo %ACV                                      33.236020\n",
      "Disp w/o Feat %ACV                                  33.236020\n",
      "Feat & Disp %ACV                                    33.236020\n",
      "Feat w/o Disp %ACV                                  33.236020\n",
      "Price Decr Only %ACV                                33.236020\n",
      "Number of UPCs Selling                              33.236020\n",
      "Dollar Sales Feature Only                           42.867569\n",
      "Dollar Sales Display Only                           19.763043\n",
      "Dollar Sales Feature and Display                    53.761754\n",
      "Dollar Sales Feature and/or Display                 14.419346\n",
      "Dollar Sales Any Feature                            42.854189\n",
      "Dollar Sales Any Display                            18.938316\n",
      "ACV Weighted Distribution Feature Only              42.867569\n",
      "ACV Weighted Distribution Display Only              19.763043\n",
      "ACV Weighted Distribution Feature and Display       53.761754\n",
      "ACV Weighted Distribution Feature and/or Display    14.419346\n",
      "ACV Weighted Distribution Any Feature               42.854189\n",
      "ACV Weighted Distribution Any Display               18.938316\n",
      "dtype: float64\n",
      "Series([], dtype: float64)\n"
     ]
    }
   ],
   "source": [
    "df = df.drop(\n",
    "        ['Base $', 'Incr $', 'Base Units', 'Incr Units',\n",
    "         '$ Shr - Ty Subcategory', 'Units Shr - Ty Category',\n",
    "         'Units Shr - Ty Subcategory'], axis=1)\n",
    "fp = [var for var in df.columns if df[var].dtype == 'float64']\n",
    "print('There are {} float variables\\n'.format(len(fp)))\n",
    "print('The float variables are :\\n\\n', fp)\n",
    "fp_na = df[fp].isnull().sum() / len(df) * 100\n",
    "print(fp_na[fp_na > 10])\n",
    "fp_zero = df[fp].sum()\n",
    "print(fp_zero[fp_zero == 0.0])"
   ],
   "metadata": {
    "collapsed": false,
    "pycharm": {
     "name": "#%%\n"
    }
   }
  },
  {
   "cell_type": "code",
   "execution_count": 11,
   "outputs": [
    {
     "data": {
      "text/plain": "       Total Impressions for Tactic  Total Tactic Spend  \\\ncount                  8.220900e+04        82209.000000   \nmean                   6.407302e+06        23489.700444   \nstd                    1.792383e+07        24157.132416   \nmin                    0.000000e+00           11.000000   \n25%                    2.402400e+04         7005.380000   \n50%                    1.251171e+06        15450.000000   \n75%                    3.000000e+06        30000.000000   \nmax                    1.277500e+08       126222.000000   \n\n       Total Tactic Insertion Cost  Total Tactic Redemption Cost  \\\ncount                 82209.000000                  82209.000000   \nmean                  20927.899871                   2561.800572   \nstd                   22224.675386                  13301.853242   \nmin                       0.000000                      0.000000   \n25%                    3286.000000                      0.000000   \n50%                   15000.000000                      0.000000   \n75%                   30000.000000                      0.000000   \nmax                  126222.000000                 114135.070000   \n\n         StoreCount           RMN         Weeks  Impressions per Week  \\\ncount  82209.000000  82209.000000  82209.000000          8.220900e+04   \nmean     465.067657      0.460461      5.832756          1.586431e+06   \nstd      962.855393      0.498437      7.223135          5.262126e+06   \nmin        0.000000      0.000000      1.000000          0.000000e+00   \n25%        0.000000      0.000000      4.000000          4.744800e+03   \n50%        0.000000      0.000000      4.000000          2.304797e+05   \n75%      241.000000      1.000000      6.000000          6.250000e+05   \nmax     3884.000000      1.000000     61.000000          4.258333e+07   \n\n       Brand Share of Program Budget  Brand Share of Total Tactic Spend  ...  \\\ncount                   82209.000000                       82209.000000  ...   \nmean                        0.696478                       13261.905602  ...   \nstd                         0.398124                       15015.701018  ...   \nmin                         0.002996                          11.000000  ...   \n25%                         0.250000                        2004.046633  ...   \n50%                         1.000000                        8270.191252  ...   \n75%                         1.000000                       20000.000000  ...   \nmax                         1.000000                       66062.000000  ...   \n\n       ACV Weighted Distribution Any Feature  \\\ncount                           46979.000000   \nmean                               70.894942   \nstd                                36.051244   \nmin                                 0.000301   \n25%                                40.286984   \n50%                                93.948052   \n75%                                99.747747   \nmax                               100.000000   \n\n       ACV Weighted Distribution Any Display  \\\ncount                           66640.000000   \nmean                               42.382201   \nstd                                33.824562   \nmin                                 0.000568   \n25%                                 7.699370   \n50%                                39.624288   \n75%                                73.837543   \nmax                               100.000000   \n\n       Avg Weekly Items per Store Selling  Avg Weekly Units per Store Selling  \\\ncount                        82208.000000                        82208.000000   \nmean                            87.590972                          793.434638   \nstd                            142.564862                         1278.918493   \nmin                              1.000000                            0.806123   \n25%                              4.255066                           42.963326   \n50%                             33.094459                          291.684583   \n75%                            113.362142                          999.558209   \nmax                            999.677600                        19937.256100   \n\n       Avg Weekly Dollars per Store Selling  \\\ncount                          82208.000000   \nmean                            3977.836748   \nstd                             6227.849807   \nmin                                0.509922   \n25%                              204.923915   \n50%                             1393.844261   \n75%                             5125.612458   \nmax                            69017.690480   \n\n       Dollar Sales per Pt of Distribution  Unit Sales per Pt of Distribution  \\\ncount                         8.220800e+04                       82208.000000   \nmean                          8.959253e+04                       19353.740279   \nstd                           1.985870e+05                       46798.691810   \nmin                           2.980000e-02                           0.004660   \n25%                           2.928670e+03                         579.986982   \n50%                           1.882864e+04                        3829.326973   \n75%                           7.103080e+04                       12917.946968   \nmax                           2.864201e+06                      804770.302900   \n\n       Number of Stores Selling  Weighted Average Base Price Per Unit  \\\ncount              82208.000000                          82208.000000   \nmean                6846.854743                              5.724381   \nstd                18654.479238                              2.572143   \nmin                    1.000000                              0.510000   \n25%                  588.000000                              3.922013   \n50%                 1252.000000                              5.188795   \n75%                 2258.000000                              6.816732   \nmax                93043.440570                             35.005766   \n\n       Number of Stores  \ncount      82209.000000  \nmean       13008.919060  \nstd        33309.346708  \nmin          237.000000  \n25%          589.000000  \n50%         1286.000000  \n75%         2283.000000  \nmax       110632.000000  \n\n[8 rows x 64 columns]",
      "text/html": "<div>\n<style scoped>\n    .dataframe tbody tr th:only-of-type {\n        vertical-align: middle;\n    }\n\n    .dataframe tbody tr th {\n        vertical-align: top;\n    }\n\n    .dataframe thead th {\n        text-align: right;\n    }\n</style>\n<table border=\"1\" class=\"dataframe\">\n  <thead>\n    <tr style=\"text-align: right;\">\n      <th></th>\n      <th>Total Impressions for Tactic</th>\n      <th>Total Tactic Spend</th>\n      <th>Total Tactic Insertion Cost</th>\n      <th>Total Tactic Redemption Cost</th>\n      <th>StoreCount</th>\n      <th>RMN</th>\n      <th>Weeks</th>\n      <th>Impressions per Week</th>\n      <th>Brand Share of Program Budget</th>\n      <th>Brand Share of Total Tactic Spend</th>\n      <th>...</th>\n      <th>ACV Weighted Distribution Any Feature</th>\n      <th>ACV Weighted Distribution Any Display</th>\n      <th>Avg Weekly Items per Store Selling</th>\n      <th>Avg Weekly Units per Store Selling</th>\n      <th>Avg Weekly Dollars per Store Selling</th>\n      <th>Dollar Sales per Pt of Distribution</th>\n      <th>Unit Sales per Pt of Distribution</th>\n      <th>Number of Stores Selling</th>\n      <th>Weighted Average Base Price Per Unit</th>\n      <th>Number of Stores</th>\n    </tr>\n  </thead>\n  <tbody>\n    <tr>\n      <th>count</th>\n      <td>8.220900e+04</td>\n      <td>82209.000000</td>\n      <td>82209.000000</td>\n      <td>82209.000000</td>\n      <td>82209.000000</td>\n      <td>82209.000000</td>\n      <td>82209.000000</td>\n      <td>8.220900e+04</td>\n      <td>82209.000000</td>\n      <td>82209.000000</td>\n      <td>...</td>\n      <td>46979.000000</td>\n      <td>66640.000000</td>\n      <td>82208.000000</td>\n      <td>82208.000000</td>\n      <td>82208.000000</td>\n      <td>8.220800e+04</td>\n      <td>82208.000000</td>\n      <td>82208.000000</td>\n      <td>82208.000000</td>\n      <td>82209.000000</td>\n    </tr>\n    <tr>\n      <th>mean</th>\n      <td>6.407302e+06</td>\n      <td>23489.700444</td>\n      <td>20927.899871</td>\n      <td>2561.800572</td>\n      <td>465.067657</td>\n      <td>0.460461</td>\n      <td>5.832756</td>\n      <td>1.586431e+06</td>\n      <td>0.696478</td>\n      <td>13261.905602</td>\n      <td>...</td>\n      <td>70.894942</td>\n      <td>42.382201</td>\n      <td>87.590972</td>\n      <td>793.434638</td>\n      <td>3977.836748</td>\n      <td>8.959253e+04</td>\n      <td>19353.740279</td>\n      <td>6846.854743</td>\n      <td>5.724381</td>\n      <td>13008.919060</td>\n    </tr>\n    <tr>\n      <th>std</th>\n      <td>1.792383e+07</td>\n      <td>24157.132416</td>\n      <td>22224.675386</td>\n      <td>13301.853242</td>\n      <td>962.855393</td>\n      <td>0.498437</td>\n      <td>7.223135</td>\n      <td>5.262126e+06</td>\n      <td>0.398124</td>\n      <td>15015.701018</td>\n      <td>...</td>\n      <td>36.051244</td>\n      <td>33.824562</td>\n      <td>142.564862</td>\n      <td>1278.918493</td>\n      <td>6227.849807</td>\n      <td>1.985870e+05</td>\n      <td>46798.691810</td>\n      <td>18654.479238</td>\n      <td>2.572143</td>\n      <td>33309.346708</td>\n    </tr>\n    <tr>\n      <th>min</th>\n      <td>0.000000e+00</td>\n      <td>11.000000</td>\n      <td>0.000000</td>\n      <td>0.000000</td>\n      <td>0.000000</td>\n      <td>0.000000</td>\n      <td>1.000000</td>\n      <td>0.000000e+00</td>\n      <td>0.002996</td>\n      <td>11.000000</td>\n      <td>...</td>\n      <td>0.000301</td>\n      <td>0.000568</td>\n      <td>1.000000</td>\n      <td>0.806123</td>\n      <td>0.509922</td>\n      <td>2.980000e-02</td>\n      <td>0.004660</td>\n      <td>1.000000</td>\n      <td>0.510000</td>\n      <td>237.000000</td>\n    </tr>\n    <tr>\n      <th>25%</th>\n      <td>2.402400e+04</td>\n      <td>7005.380000</td>\n      <td>3286.000000</td>\n      <td>0.000000</td>\n      <td>0.000000</td>\n      <td>0.000000</td>\n      <td>4.000000</td>\n      <td>4.744800e+03</td>\n      <td>0.250000</td>\n      <td>2004.046633</td>\n      <td>...</td>\n      <td>40.286984</td>\n      <td>7.699370</td>\n      <td>4.255066</td>\n      <td>42.963326</td>\n      <td>204.923915</td>\n      <td>2.928670e+03</td>\n      <td>579.986982</td>\n      <td>588.000000</td>\n      <td>3.922013</td>\n      <td>589.000000</td>\n    </tr>\n    <tr>\n      <th>50%</th>\n      <td>1.251171e+06</td>\n      <td>15450.000000</td>\n      <td>15000.000000</td>\n      <td>0.000000</td>\n      <td>0.000000</td>\n      <td>0.000000</td>\n      <td>4.000000</td>\n      <td>2.304797e+05</td>\n      <td>1.000000</td>\n      <td>8270.191252</td>\n      <td>...</td>\n      <td>93.948052</td>\n      <td>39.624288</td>\n      <td>33.094459</td>\n      <td>291.684583</td>\n      <td>1393.844261</td>\n      <td>1.882864e+04</td>\n      <td>3829.326973</td>\n      <td>1252.000000</td>\n      <td>5.188795</td>\n      <td>1286.000000</td>\n    </tr>\n    <tr>\n      <th>75%</th>\n      <td>3.000000e+06</td>\n      <td>30000.000000</td>\n      <td>30000.000000</td>\n      <td>0.000000</td>\n      <td>241.000000</td>\n      <td>1.000000</td>\n      <td>6.000000</td>\n      <td>6.250000e+05</td>\n      <td>1.000000</td>\n      <td>20000.000000</td>\n      <td>...</td>\n      <td>99.747747</td>\n      <td>73.837543</td>\n      <td>113.362142</td>\n      <td>999.558209</td>\n      <td>5125.612458</td>\n      <td>7.103080e+04</td>\n      <td>12917.946968</td>\n      <td>2258.000000</td>\n      <td>6.816732</td>\n      <td>2283.000000</td>\n    </tr>\n    <tr>\n      <th>max</th>\n      <td>1.277500e+08</td>\n      <td>126222.000000</td>\n      <td>126222.000000</td>\n      <td>114135.070000</td>\n      <td>3884.000000</td>\n      <td>1.000000</td>\n      <td>61.000000</td>\n      <td>4.258333e+07</td>\n      <td>1.000000</td>\n      <td>66062.000000</td>\n      <td>...</td>\n      <td>100.000000</td>\n      <td>100.000000</td>\n      <td>999.677600</td>\n      <td>19937.256100</td>\n      <td>69017.690480</td>\n      <td>2.864201e+06</td>\n      <td>804770.302900</td>\n      <td>93043.440570</td>\n      <td>35.005766</td>\n      <td>110632.000000</td>\n    </tr>\n  </tbody>\n</table>\n<p>8 rows × 64 columns</p>\n</div>"
     },
     "execution_count": 11,
     "metadata": {},
     "output_type": "execute_result"
    }
   ],
   "source": [
    "df = df.drop(\n",
    "        ['ClientId', 'Program Id', 'TacticId', 'CategoryId',\n",
    "         'BrandId', 'Nielsen_Week_Year', 'VendorId'], axis=1)\n",
    "df_num = df.select_dtypes(exclude='object')\n",
    "df_num.describe()"
   ],
   "metadata": {
    "collapsed": false,
    "pycharm": {
     "name": "#%%\n"
    }
   }
  },
  {
   "cell_type": "markdown",
   "source": [
    "The following heat maps are obviously important for understanding relationships,\n",
    "but more importantly their dataframes provide the ability to fill df.colnames\n",
    "that will be key to making a decision on what variables to explore for feature importance"
   ],
   "metadata": {
    "collapsed": false,
    "pycharm": {
     "name": "#%% md\n"
    }
   }
  },
  {
   "cell_type": "code",
   "execution_count": 12,
   "outputs": [],
   "source": [
    "# corr = df_num.corr(method=\"spearman\").round(2)\n",
    "# mask = np.triu(np.ones_like(corr, dtype=bool))\n",
    "# f, ax = plt.subplots(figsize=(18, 18))\n",
    "# cmap = sns.diverging_palette(250, 1, as_cmap=True)\n",
    "# sns.heatmap(corr, annot=True, mask=mask, cmap=cmap, vmax=1, vmin=-1, center=0,\n",
    "#             square=True, linewidths=.5, cbar_kws={\"shrink\": .5})\n",
    "# corr.describe()"
   ],
   "metadata": {
    "collapsed": false,
    "pycharm": {
     "name": "#%%\n"
    }
   }
  },
  {
   "cell_type": "markdown",
   "source": [
    "Here we use the correlation df and filter by a minimum threshold, while\n",
    "eliminating one to avoid including the variable itself\n",
    "by converting it to a list, we can use it in our feature importance plots"
   ],
   "metadata": {
    "collapsed": false,
    "pycharm": {
     "name": "#%% md\n"
    }
   }
  },
  {
   "cell_type": "code",
   "execution_count": 13,
   "outputs": [],
   "source": [
    "# use VIF along with variable importance to check new dataframes\n",
    "# vif_df = df_num[~df_num.isin([np.nan, np.inf, -np.inf]).any(1)]\n",
    "#\n",
    "# X = vif_df\n",
    "# vif_data = pd.DataFrame()\n",
    "# vif_data[\"feature\"] = X.columns\n",
    "# vif_data[\"VIF\"] = [variance_inflation_factor(X.values, i) for i in range(len(X.columns))]\n",
    "# print(vif_data)\n",
    "#\n",
    "# corr_vif = vif_df.corr(method=\"spearman\").round(2)\n",
    "# mask = np.triu(np.ones_like(corr_vif, dtype=bool))\n",
    "# plt.subplots(figsize=(18, 18))\n",
    "# cmap = sns.diverging_palette(250, 1, as_cmap=True)\n",
    "# sns.heatmap(corr, annot=True, mask=mask, cmap=cmap, vmax=1, vmin=-1, center=0,\n",
    "#             square=True, linewidths=.5, cbar_kws={\"shrink\": .5})\n",
    "# corr_vif.describe()"
   ],
   "metadata": {
    "collapsed": false,
    "pycharm": {
     "name": "#%%\n"
    }
   }
  },
  {
   "cell_type": "code",
   "execution_count": 14,
   "outputs": [],
   "source": [
    "# df_num = df_num.drop(['Units', 'Impressions per Week',\n",
    "#                       'Any Promo %ACV', '%ACV Distribution'], axis=1)\n",
    "corr = df_num.corr(method=\"spearman\").round(2)"
   ],
   "metadata": {
    "collapsed": false,
    "pycharm": {
     "name": "#%%\n"
    }
   }
  },
  {
   "cell_type": "code",
   "execution_count": 15,
   "outputs": [],
   "source": [
    "# def imp_plots(target, predictors):\n",
    "#     \"\"\"Form three importance plots\n",
    "#\n",
    "#     :param target:'dependent' component\n",
    "#     :param predictors:'predictive' component\n",
    "#     \"\"\"\n",
    "#     target = target\n",
    "#     df_all = df_num.dropna().astype(dtype='int32')\n",
    "#     df_all = df_all[predictors + [target]]\n",
    "#     df_train, df_test = train_test_split(df_all, test_size=0.15)\n",
    "#     X_train, y_train = df_train.drop(target, axis=1), df_train[target]\n",
    "#     X_test, y_test = df_test.drop(target, axis=1), df_test[target]\n",
    "#     rf = RandomForestClassifier(n_estimators=100, n_jobs=-1,\n",
    "#                                 max_features=1.0,\n",
    "#                                 min_samples_leaf=10, oob_score=True)\n",
    "#     rf.fit(X_train, y_train)\n",
    "#     RandomForestClassifier(bootstrap=True, class_weight=None, criterion='gini',\n",
    "#                            max_depth=None, max_features=1.0, max_leaf_nodes=None,\n",
    "#                            min_impurity_decrease=0.0, min_samples_leaf=10,\n",
    "#                            min_samples_split=2,\n",
    "#                            min_weight_fraction_leaf=0.0, n_estimators=100, n_jobs=-1,\n",
    "#                            oob_score=True, random_state=None, verbose=0, warm_start=False)\n",
    "#     figure, (ax1, ax2, ax3) = plt.subplots(nrows=3, ncols=1, figsize=(10, 10))\n",
    "#     imp1 = importances(rf, X_test, y_test)\n",
    "#     plot_importances(imp1, width=16, vscale=4, ax=ax1)\n",
    "#\n",
    "#     imp = pd.DataFrame()\n",
    "#     imp['Feature'] = X_train.columns\n",
    "#     imp['Importance'] = rf.feature_importances_\n",
    "#     imp = imp.sort_values('Importance', ascending=False)\n",
    "#     imp2 = imp.set_index('Feature')\n",
    "#     plot_importances(imp2, width=16, vscale=4, ax=ax2)\n",
    "#\n",
    "#     perm_importance = permutation_importance(rf, X_test, y_test)\n",
    "#     perm = pd.DataFrame()\n",
    "#     perm['Feature'] = X_test.columns\n",
    "#     perm['Importance'] = perm_importance.importances_mean\n",
    "#     perm = perm.sort_values('Importance', ascending=False)\n",
    "#     perm = perm.set_index('Feature')\n",
    "#     plot_importances(perm, width=16, vscale=4, ax=ax3)\n",
    "#     a = imp1.sort_values(by='Feature')\n",
    "#     b = imp2.sort_values(by='Feature')\n",
    "#     c = perm.sort_values(by='Feature')\n",
    "#     d = (np.abs(a) + np.abs(b) + np.abs(c)).sort_values('Importance',\n",
    "#                                                         ascending=False).mean(axis=1)\n",
    "#     plt.show()\n",
    "#     return d"
   ],
   "metadata": {
    "collapsed": false,
    "pycharm": {
     "name": "#%%\n"
    }
   }
  },
  {
   "cell_type": "markdown",
   "source": [
    "The following three importance plots look at different ways to measure importance\n",
    "in relation to predicting our variable of interest. We can continue this\n",
    "process many times to develop our Bayesian Hierarchy"
   ],
   "metadata": {
    "collapsed": false,
    "pycharm": {
     "name": "#%% md\n"
    }
   }
  },
  {
   "cell_type": "code",
   "execution_count": 16,
   "outputs": [],
   "source": [
    "# corr_imp = corr[abs(corr['Total Sales'] > .20) & (corr['Total Sales'] < 1.0)]\n",
    "# corr_imp = corr_imp[['Total Sales']]\n",
    "# features = corr_imp.index.tolist()\n",
    "# imp_sales = imp_plots('Total Sales', features)\n",
    "# print(imp_sales)"
   ],
   "metadata": {
    "collapsed": false,
    "pycharm": {
     "name": "#%%\n"
    }
   }
  },
  {
   "cell_type": "code",
   "execution_count": 17,
   "outputs": [],
   "source": [
    "# corr_imp = corr[abs(corr['Number of UPCs Selling'] > .20) & (corr['Number of UPCs Selling'] < 1.0)]\n",
    "# corr_imp = corr_imp[['Number of UPCs Selling']]\n",
    "# features = corr_imp.index.tolist()\n",
    "# imp_UPC = imp_plots('Number of UPCs Selling', features)\n",
    "# print(imp_UPC)"
   ],
   "metadata": {
    "collapsed": false,
    "pycharm": {
     "name": "#%%\n"
    }
   }
  },
  {
   "cell_type": "code",
   "execution_count": 18,
   "outputs": [],
   "source": [
    "# corr_imp = corr[\n",
    "#     abs(corr['Price Decr Only %ACV'] > .20) & (corr['Price Decr Only %ACV'] < 1.0)]\n",
    "# corr_imp = corr_imp[['Price Decr Only %ACV']]\n",
    "# features = corr_imp.index.tolist()\n",
    "# imp_price_decr = imp_plots('Price Decr Only %ACV', features)\n",
    "# print(imp_price_decr)"
   ],
   "metadata": {
    "collapsed": false,
    "pycharm": {
     "name": "#%%\n"
    }
   }
  },
  {
   "cell_type": "code",
   "execution_count": 19,
   "outputs": [],
   "source": [
    "# corr_imp = corr[abs(corr['Any Promo Units'] > .20) & (corr['Any Promo Units'] < 1.0)]\n",
    "# corr_imp = corr_imp[['Any Promo Units']]\n",
    "# features = corr_imp.index.tolist()\n",
    "# imp_promo_unit = imp_plots('Any Promo Units', features)\n",
    "# print(imp_promo_unit)"
   ],
   "metadata": {
    "collapsed": false,
    "pycharm": {
     "name": "#%%\n"
    }
   }
  },
  {
   "cell_type": "code",
   "execution_count": 20,
   "outputs": [],
   "source": [
    "# corr_imp = corr[\n",
    "#     abs(corr['Feat w/o Disp %ACV'] > .20) & (corr['Feat w/o Disp %ACV'] < 1.0)]\n",
    "# corr_imp = corr_imp[['Feat w/o Disp %ACV']]\n",
    "# features = corr_imp.index.tolist()\n",
    "# imp_feat_no_disp = imp_plots('Feat w/o Disp %ACV', features)\n",
    "# print(imp_feat_no_disp)"
   ],
   "metadata": {
    "collapsed": false,
    "pycharm": {
     "name": "#%%\n"
    }
   }
  },
  {
   "cell_type": "markdown",
   "source": [
    "This can be repeated for every variable of interest in the hierarchy\n",
    "The below kde plots are crucial to understanding the likelihood function\n",
    "distribution and beginning the Bayesian modeling"
   ],
   "metadata": {
    "collapsed": false,
    "pycharm": {
     "name": "#%% md\n"
    }
   }
  },
  {
   "cell_type": "markdown",
   "source": [
    "#### 2. This section continues on to modeling and exploration of modeling techniques"
   ],
   "metadata": {
    "collapsed": false,
    "pycharm": {
     "name": "#%% md\n"
    }
   }
  },
  {
   "cell_type": "code",
   "execution_count": 21,
   "outputs": [],
   "source": [
    "final_vars_cat = ['Number of UPCs Selling', 'Any Promo Units', '%ACV Distribution',\n",
    "                  'Feat w/o Disp %ACV', 'Price Decr Only %ACV', 'Disp w/o Feat %ACV',\n",
    "                  'Total Sales', 'Feat & Disp %ACV', 'RMN', 'Tactic Category', 'Brand']\n",
    "\n",
    "final_vars = ['Number of UPCs Selling', 'Any Promo Units', '%ACV Distribution',\n",
    "              'Feat w/o Disp %ACV', 'Price Decr Only %ACV', 'Disp w/o Feat %ACV',\n",
    "              'Total Sales', 'Feat & Disp %ACV', 'RMN']"
   ],
   "metadata": {
    "collapsed": false,
    "pycharm": {
     "name": "#%%\n"
    }
   }
  },
  {
   "cell_type": "code",
   "execution_count": 22,
   "outputs": [
    {
     "name": "stdout",
     "output_type": "stream",
     "text": [
      "Number of UPCs Selling\n",
      "         sumsquare_error          aic            bic  kl_div\n",
      "gamma           1.914466  1015.570094 -563293.837734     inf\n",
      "expon           2.296087   840.781624 -553328.250451     inf\n",
      "cauchy          2.536779   919.034151 -547856.725055     inf\n",
      "norm            2.640389   925.178722 -545659.578088     inf\n",
      "uniform         2.822980   612.904488 -541989.518996     inf\n",
      "{'gamma': {'a': 0.20965298747919442, 'loc': 0.9999999999999999, 'scale': 6.7543191343959865}}\n",
      "Any Promo Units\n",
      "         sumsquare_error          aic           bic  kl_div\n",
      "cauchy      3.617007e-07  2793.992427 -1.413044e+06     inf\n",
      "gamma       4.654527e-07  2420.370345 -1.399191e+06     inf\n",
      "expon       9.641510e-07  2539.350841 -1.359232e+06     inf\n",
      "norm        1.313914e-06  2516.493875 -1.342244e+06     inf\n",
      "uniform     1.383860e-06  2113.187031 -1.339397e+06     inf\n",
      "{'cauchy': {'loc': 276.1308304252667, 'scale': 527.581424120705}}\n",
      "%ACV Distribution\n",
      "         sumsquare_error          aic            bic  kl_div\n",
      "uniform         0.068507   923.886753 -746089.000645     inf\n",
      "expon           0.071035   987.585945 -744100.055036     inf\n",
      "cauchy          0.071960  1076.670196 -743390.390044     inf\n",
      "norm            0.072375   980.040634 -743074.992558     inf\n",
      "gamma           0.072445   981.288264 -743011.003761     inf\n",
      "{'uniform': {'loc': 0.572, 'scale': 99.428}}\n",
      "Feat w/o Disp %ACV\n",
      "         sumsquare_error           aic            bic  kl_div\n",
      "expon           0.655454   1518.415448 -622135.189850     inf\n",
      "gamma           0.684256   1022.923364 -619763.905430     inf\n",
      "norm            0.764086   1172.109799 -613718.277527     inf\n",
      "uniform         0.771782    925.034037 -613168.223857     inf\n",
      "cauchy          0.781782  11775.142584 -612461.632394     inf\n",
      "{'expon': {'loc': 0.0, 'scale': 9.373491618992093}}\n",
      "Price Decr Only %ACV\n",
      "         sumsquare_error          aic            bic  kl_div\n",
      "gamma           0.019239  1303.628206 -815783.547701     inf\n",
      "cauchy          0.037828  1387.969814 -778685.348263     inf\n",
      "expon           0.045145  1125.026840 -768979.703868     inf\n",
      "norm            0.072336  1080.405688 -743103.929727     inf\n",
      "uniform         0.075674   924.433135 -740628.250141     inf\n",
      "{'gamma': {'a': 0.6200981153603116, 'loc': -3.0917062642265785e-26, 'scale': 16.563535023462002}}\n",
      "Disp w/o Feat %ACV\n",
      "         sumsquare_error           aic            bic  kl_div\n",
      "gamma          13.013985    849.617727 -458100.101564     inf\n",
      "expon          13.159680   2228.404891 -457499.965532     inf\n",
      "norm           18.527577   1458.699055 -438723.317124     inf\n",
      "uniform        19.083106    604.143963 -437101.811039     inf\n",
      "cauchy         19.330625  10626.173585 -436394.486088     inf\n",
      "{'gamma': {'a': 0.30730141033251196, 'loc': -5.805649192091926e-29, 'scale': 9.381209412571149}}\n",
      "Total Sales\n",
      "         sumsquare_error          aic           bic  kl_div\n",
      "cauchy      8.598944e-12  3945.352875 -1.997411e+06     inf\n",
      "gamma       1.688142e-10  3275.127797 -1.833996e+06     inf\n",
      "expon       1.843426e-10  4295.961514 -1.829177e+06     inf\n",
      "norm        3.078388e-10  3928.241824 -1.801033e+06     inf\n",
      "uniform     3.274884e-10  3013.306640 -1.797636e+06     inf\n",
      "{'cauchy': {'loc': 9250.493955641225, 'scale': 13529.334428086426}}\n",
      "Feat & Disp %ACV\n",
      "         sumsquare_error           aic            bic  kl_div\n",
      "expon          53.838892   2946.140784 -380174.455015     inf\n",
      "gamma          61.265930    781.315587 -373070.745444     inf\n",
      "norm           85.701867   1623.666649 -354659.133489     inf\n",
      "uniform        88.557644    463.454200 -352860.021450     inf\n",
      "cauchy         89.568329  10380.060050 -352237.169610     inf\n",
      "{'expon': {'loc': 0.0, 'scale': 0.3133687461283387}}\n",
      "RMN\n",
      "         sumsquare_error          aic            bic  kl_div\n",
      "expon        4883.573674    66.068252 -232085.230839     inf\n",
      "uniform      4931.267388     4.000000 -231286.260507     inf\n",
      "gamma        4977.478237    83.535625 -230508.151137     inf\n",
      "norm         4980.523661    82.699982 -230469.184707     inf\n",
      "cauchy       5031.267388  8379.427020 -229635.841955     inf\n",
      "{'expon': {'loc': 0.0, 'scale': 0.4604605335182279}}\n"
     ]
    }
   ],
   "source": [
    "df_final = df[final_vars]\n",
    "\n",
    "dist_list = ['gamma', 'expon', 'cauchy', 'norm', 'uniform']\n",
    "\n",
    "for var in final_vars:\n",
    "    dist_test = df_final[var].dropna()\n",
    "    dist_test = dist_test.values\n",
    "    f = Fitter(dist_test, distributions=dist_list, timeout=60)\n",
    "    f.fit()\n",
    "    print(var)\n",
    "    print(f.summary(plot=False))\n",
    "    print(f.get_best(method='sumsquare_error'))"
   ],
   "metadata": {
    "collapsed": false,
    "pycharm": {
     "name": "#%%\n"
    }
   }
  },
  {
   "cell_type": "markdown",
   "source": [
    "##### 2.1 Here I tested the Bambi package to establish a baseline,\n",
    "##### but it slows down the modeling process"
   ],
   "metadata": {
    "collapsed": false,
    "pycharm": {
     "name": "#%% md\n"
    }
   }
  },
  {
   "cell_type": "code",
   "execution_count": 23,
   "outputs": [],
   "source": [
    "# df_nostr = df[final_vars]\n",
    "# df_nostr = df_nostr[df_nostr['Total Sales'] > 0.0]\n",
    "# df_nostr.columns = df_nostr.columns.str.replace('[#,@,&,%,''//'',\" \"]', '')\n",
    "#\n",
    "# df_nostr['TotalSales'] = np.log(df_nostr['TotalSales'])"
   ],
   "metadata": {
    "collapsed": false,
    "pycharm": {
     "name": "#%%\n"
    }
   }
  },
  {
   "cell_type": "code",
   "execution_count": 24,
   "outputs": [],
   "source": [
    "# bmb_model = bmb.Model('TotalSales ~ NumberofUPCsSelling + '\n",
    "#                       ' FeatwoDispACV + PriceDecrOnlyACV + DispwoFeatACV'\n",
    "#                       , data=df_nostr, dropna=False)\n",
    "#\n",
    "# bmb_fitted = bmb_model.fit(draws=3000, tune=3000, chains=4)"
   ],
   "metadata": {
    "collapsed": false,
    "pycharm": {
     "name": "#%%\n"
    }
   }
  },
  {
   "cell_type": "markdown",
   "source": [
    "##### 2.3 Here I test and get diagnostics for this model\n",
    "##### and to prepare for the more complicated model"
   ],
   "metadata": {
    "collapsed": false,
    "pycharm": {
     "name": "#%% md\n"
    }
   }
  },
  {
   "cell_type": "code",
   "execution_count": 25,
   "outputs": [],
   "source": [
    "# az.plot_trace(bmb_fitted)\n",
    "# print(az.summary(bmb_fitted))\n",
    "# print(az.ess(bmb_fitted))\n",
    "# az.plot_posterior(bmb_fitted, hdi_prob=0.99)\n",
    "# az.plot_energy(bmb_fitted);"
   ],
   "metadata": {
    "collapsed": false,
    "pycharm": {
     "name": "#%%\n"
    }
   }
  },
  {
   "cell_type": "markdown",
   "source": [
    "##### 2.4 Note the above graph and compare it to the\n",
    "##### graph at the end. Having each chain closer to one\n",
    "##### is the ideal"
   ],
   "metadata": {
    "collapsed": false,
    "pycharm": {
     "name": "#%% md\n"
    }
   }
  },
  {
   "cell_type": "code",
   "execution_count": 26,
   "outputs": [],
   "source": [
    "df_final_cat = df_bu[final_vars_cat]\n",
    "df_final_cat = df_final_cat[df_final_cat['Total Sales'] > 0.0]"
   ],
   "metadata": {
    "collapsed": false,
    "pycharm": {
     "name": "#%%\n"
    }
   }
  },
  {
   "cell_type": "markdown",
   "source": [
    "The following two charts show that many Tactic Category observations have dropped and two categories have also dropped."
   ],
   "metadata": {
    "collapsed": false,
    "pycharm": {
     "name": "#%% md\n"
    }
   }
  },
  {
   "cell_type": "code",
   "execution_count": 27,
   "outputs": [
    {
     "data": {
      "text/plain": "<Figure size 432x288 with 1 Axes>",
      "image/png": "[encoded data removed]"
     },
     "metadata": {},
     "output_type": "display_data"
    },
    {
     "data": {
      "text/plain": "<Figure size 432x288 with 1 Axes>",
      "image/png": "[encoded data removed]"
     },
     "metadata": {},
     "output_type": "display_data"
    },
    {
     "name": "stdout",
     "output_type": "stream",
     "text": [
      "Original number of obs and Tactic Categories\n",
      "82209\n",
      "12\n"
     ]
    }
   ],
   "source": [
    "for col in df.select_dtypes(include='object'):\n",
    "    if df[col].nunique() <= 25:\n",
    "        sns.countplot(y=col, data=df)\n",
    "        plt.show()\n",
    "\n",
    "print('Original number of obs and Tactic Categories')\n",
    "print(df['Tactic Category'].count())\n",
    "print(df['Tactic Category'].nunique())"
   ],
   "metadata": {
    "collapsed": false,
    "pycharm": {
     "name": "#%%\n"
    }
   }
  },
  {
   "cell_type": "code",
   "execution_count": 28,
   "outputs": [
    {
     "data": {
      "text/plain": "<Figure size 432x288 with 1 Axes>",
      "image/png": "[encoded data removed]"
     },
     "metadata": {},
     "output_type": "display_data"
    },
    {
     "data": {
      "text/plain": "<Figure size 432x288 with 1 Axes>",
      "image/png": "[encoded data removed]"
     },
     "metadata": {},
     "output_type": "display_data"
    },
    {
     "data": {
      "text/plain": "<Figure size 432x288 with 1 Axes>",
      "image/png": "[encoded data removed]"
     },
     "metadata": {},
     "output_type": "display_data"
    },
    {
     "name": "stdout",
     "output_type": "stream",
     "text": [
      "Number of obs, new tactics, and new displays\n",
      "54886\n",
      "10\n",
      "23\n"
     ]
    }
   ],
   "source": [
    "for col in df_final_cat.select_dtypes(include='object'):\n",
    "    if df_final_cat[col].nunique() <= 25:\n",
    "        sns.countplot(y=col, data=df_final_cat)\n",
    "        plt.show()\n",
    "\n",
    "print('Number of obs, new tactics, and new displays')\n",
    "print(df_final_cat['Tactic Category'].count())\n",
    "print(df_final_cat['Tactic Category'].nunique())\n",
    "print(df_final_cat['Brand'].nunique())"
   ],
   "metadata": {
    "collapsed": false,
    "pycharm": {
     "name": "#%%\n"
    }
   }
  },
  {
   "cell_type": "code",
   "execution_count": 29,
   "outputs": [],
   "source": [
    "tt.config.floatX = 'float64'\n",
    "\n",
    "df_final_cat = df_bu[final_vars_cat]\n",
    "df_final_cat = df_final_cat[df_final_cat['Total Sales'] > 0.0]\n",
    "\n",
    "df_final_cat['Total Sales'] = np.log(df_final_cat['Total Sales'])\n",
    "\n",
    "price_decr_idxs, price_decr = pd.factorize(df_final_cat['Price Decr Only %ACV'],\n",
    "                                           sort=True)\n",
    "tactic_idxs, tactics = pd.factorize(df_final_cat['Tactic Category'], sort=True)\n",
    "brand_idxs, brand = pd.factorize(df_final_cat['Brand'], sort=True)\n",
    "coords = {\"tactics\": tactics, 'brand': brand, 'obs_idx': np.arange(len(tactic_idxs)), 'price_decrease': price_decr}"
   ],
   "metadata": {
    "collapsed": false,
    "pycharm": {
     "name": "#%%\n"
    }
   }
  },
  {
   "cell_type": "markdown",
   "source": [
    "#### 3. Hierarchical Model with diagnostics"
   ],
   "metadata": {
    "collapsed": false,
    "pycharm": {
     "name": "#%% md\n"
    }
   }
  },
  {
   "cell_type": "code",
   "execution_count": null,
   "outputs": [
    {
     "name": "stderr",
     "output_type": "stream",
     "text": [
      "Auto-assigning NUTS sampler...\n",
      "INFO:pymc3:Auto-assigning NUTS sampler...\n",
      "Initializing NUTS using advi+adapt_diag...\n",
      "INFO:pymc3:Initializing NUTS using advi+adapt_diag...\n"
     ]
    },
    {
     "data": {
      "text/plain": "<IPython.core.display.HTML object>",
      "text/html": "\n<style>\n    /* Turns off some styling */\n    progress {\n        /* gets rid of default border in Firefox and Opera. */\n        border: none;\n        /* Needs to be in here for Safari polyfill so background images work as expected. */\n        background-size: auto;\n    }\n    .progress-bar-interrupted, .progress-bar-interrupted::-webkit-progress-bar {\n        background: #F44336;\n    }\n</style>\n"
     },
     "metadata": {},
     "output_type": "display_data"
    },
    {
     "data": {
      "text/plain": "<IPython.core.display.HTML object>",
      "text/html": "\n    <div>\n      <progress value='0' class='' max='200000' style='width:300px; height:20px; vertical-align: middle;'></progress>\n      \n    </div>\n    "
     },
     "metadata": {},
     "output_type": "display_data"
    },
    {
     "name": "stderr",
     "output_type": "stream",
     "text": [
      "Convergence achieved at 56600\n",
      "INFO:pymc3.variational.inference:Convergence achieved at 56600\n",
      "Interrupted at 56,599 [28%]: Average Loss = 1.6579e+06\n",
      "INFO:pymc3.variational.inference:Interrupted at 56,599 [28%]: Average Loss = 1.6579e+06\n",
      "Multiprocess sampling (4 chains in 4 jobs)\n",
      "INFO:pymc3:Multiprocess sampling (4 chains in 4 jobs)\n",
      "NUTS: [noise, display_slope, display_int, tactic_slope, tactic_int, hp_b_4, sigma_d, hp_b_3, sigma_c, hp_b_2, sigma_b, hp_b_1, sigma_a, hp_b_0]\n",
      "INFO:pymc3:NUTS: [noise, display_slope, display_int, tactic_slope, tactic_int, hp_b_4, sigma_d, hp_b_3, sigma_c, hp_b_2, sigma_b, hp_b_1, sigma_a, hp_b_0]\n"
     ]
    },
    {
     "data": {
      "text/plain": "<IPython.core.display.HTML object>",
      "text/html": "\n<style>\n    /* Turns off some styling */\n    progress {\n        /* gets rid of default border in Firefox and Opera. */\n        border: none;\n        /* Needs to be in here for Safari polyfill so background images work as expected. */\n        background-size: auto;\n    }\n    .progress-bar-interrupted, .progress-bar-interrupted::-webkit-progress-bar {\n        background: #F44336;\n    }\n</style>\n"
     },
     "metadata": {},
     "output_type": "display_data"
    },
    {
     "data": {
      "text/plain": "<IPython.core.display.HTML object>",
      "text/html": "\n    <div>\n      <progress value='0' class='' max='3000' style='width:300px; height:20px; vertical-align: middle;'></progress>\n      \n    </div>\n    "
     },
     "metadata": {},
     "output_type": "display_data"
    }
   ],
   "source": [
    "with pm.Model(coords=coords) as h_model:\n",
    "    tactic_idx = pm.Data(\"Tactic Category\", tactic_idxs, dims=\"obs_idx\")\n",
    "    brand_idx = pm.Data(\"Brand\", brand_idxs, dims=\"obs_idx\")\n",
    "    price_decr = pm.Data(\"Price Decrease Only\", price_decr_idxs, dims=\"obs_idx\")\n",
    "\n",
    "    # Tactic Category hyperpriors parameters:\n",
    "    hp_b_0 = pm.Normal(\"hp_b_0\", mu=0.0, sigma=5.0)\n",
    "    sigma_a = pm.Exponential(\"sigma_a\", 1.0)\n",
    "    hp_b_1 = pm.Normal(\"hp_b_1\", mu=0.0, sigma=1.0)\n",
    "    sigma_b = pm.Exponential(\"sigma_b\", 0.5)\n",
    "\n",
    "    # Brand hyperpriors parameters\n",
    "    hp_b_2 = pm.Normal(\"hp_b_2\", mu=0.0, sigma=5.0)\n",
    "    sigma_c = pm.Exponential(\"sigma_c\", 1.0)\n",
    "    hp_b_3 = pm.Normal(\"hp_b_3\", mu=0.0, sigma=1.0)\n",
    "    sigma_d = pm.Exponential(\"sigma_d\", 0.5)\n",
    "\n",
    "    hp_b_4 = pm.Normal(\"hp_b_4\", mu=0.5, sigma=.3)\n",
    "\n",
    "    # estimates of independent intercepts and interactions of intercepts\n",
    "    b_0 = pm.Normal(\"tactic_int\", mu=hp_b_0, sigma=sigma_a, dims=\"tactics\")\n",
    "    b_1 = pm.Normal(\"tactic_slope\", mu=hp_b_1, sigma=sigma_b, dims=\"tactics\")\n",
    "\n",
    "    b_2 = pm.Normal(\"display_int\", mu=hp_b_2, sigma=sigma_c, dims=\"brand\")\n",
    "    b_3 = pm.Normal(\"display_slope\", mu=hp_b_3, sigma=sigma_d, dims=\"brand\")\n",
    "\n",
    "    price_decr_est = hp_b_4 * price_decr\n",
    "\n",
    "    # estimate of total sales using intercepts\n",
    "    sales_est_1 = b_0[tactic_idx] + b_1[tactic_idx] * brand_idx\n",
    "    sales_est_2 = b_2[brand_idx] + b_3[brand_idx] * tactic_idx\n",
    "    sales_est = sales_est_1 + sales_est_2 + price_decr_est\n",
    "\n",
    "    # Data likelihood\n",
    "    epsilon = pm.Exponential(\"noise\", 1.0)\n",
    "    Total_Sales = pm.Normal(\n",
    "            \"Log_Total_Sales\", mu=sales_est, sigma=epsilon,\n",
    "            observed=df_final_cat['Total Sales'], dims=\"obs_idx\")\n",
    "\n",
    "with h_model:\n",
    "    h_trace = pm.sample(draws=500, init='advi+adapt_diag', chains=4,\n",
    "                                   cores=4, tune=250,\n",
    "                                   target_accept=0.7, return_inferencedata=True)"
   ],
   "metadata": {
    "collapsed": false,
    "pycharm": {
     "name": "#%%\n",
     "is_executing": true
    }
   }
  },
  {
   "cell_type": "code",
   "execution_count": null,
   "outputs": [],
   "source": [
    "with h_model:\n",
    "    model_ppc = pm.sample_posterior_predictive(\n",
    "            h_trace, h_model)"
   ],
   "metadata": {
    "collapsed": false,
    "pycharm": {
     "name": "#%%\n",
     "is_executing": true
    }
   }
  },
  {
   "cell_type": "code",
   "execution_count": null,
   "outputs": [],
   "source": [
    "print('Model R-Squared')\n",
    "print(az.r2_score(df_final_cat['Total Sales'].values, model_ppc['Log_Total_Sales']))\n",
    "def score_model(trace,y,model_name):\n",
    "    \"\"\"\n",
    "\n",
    "    :param trace: trace from PyMC3 plot\n",
    "    :param y: samples\n",
    "    :param model_name: model from PyMC3\n",
    "    \"\"\"\n",
    "    post_ppc = pm.sample_posterior_predictive(trace, samples=20841,\n",
    "                                         model=model_name)\n",
    "    pred = post_ppc['Log_Total_Sales'].mean(axis=0)\n",
    "    mse = np.sqrt(mean_squared_error(y, pred))\n",
    "    print('The Mean Squared Error')\n",
    "    print(mse)\n",
    "\n",
    "score_model(h_trace, df_final_cat['Total Sales'], h_model)\n",
    "\n",
    "print('Trace Summary and Effective Sample Size')\n",
    "print(az.summary(h_trace, kind='stats'))\n",
    "print(az.summary(h_trace, kind='diagnostics'))\n",
    "az.plot_posterior(h_trace, hdi_prob=0.99)\n",
    "az.plot_energy(h_trace)\n",
    "plt.show()\n",
    "print('Bayesian fraction of missing information')\n",
    "print(az.bfmi(h_trace))\n",
    "az.plot_forest(h_trace, kind='ridgeplot')"
   ],
   "metadata": {
    "collapsed": false,
    "pycharm": {
     "name": "#%%\n",
     "is_executing": true
    }
   }
  },
  {
   "cell_type": "code",
   "execution_count": null,
   "outputs": [],
   "source": [
    "pm.model_to_graphviz(h_model)"
   ],
   "metadata": {
    "collapsed": false,
    "pycharm": {
     "name": "#%%\n",
     "is_executing": true
    }
   }
  }
 ],
 "metadata": {
  "datalore": {
   "base_environment": "default",
   "computation_mode": "JUPYTER",
   "package_manager": "pip",
   "packages": [],
   "version": 1
  },
  "kernelspec": {
   "name": "pycharm-2660a024",
   "language": "python",
   "display_name": "PyCharm (mercury-ds)"
  },
  "language_info": {
   "codemirror_mode": {
    "name": "ipython",
    "version": 3
   },
   "file_extension": ".py",
   "mimetype": "text/x-python",
   "name": "python",
   "nbconvert_exporter": "python",
   "pygments_lexer": "ipython3",
   "version": "3.8.13"
  }
 },
 "nbformat": 4,
 "nbformat_minor": 4
}