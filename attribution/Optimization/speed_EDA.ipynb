{
 "cells": [
  {
   "cell_type": "markdown",
   "source": [
    "#### The purpose of this EDA notebook is the following:\n",
    "- Better understand the nature of the relationship between the independent variables\n",
    "- Create an initial model with reasonable economic assumptions that may be dropped in later versions\n",
    "- Explore methods of imputation for missing variables to provide more data samples\n",
    "- Avoid linear combinations that might be more difficult to spot in the Bayesian Modeling process\n",
    "- Establish a reasonable measure of variable importance, which along with correlation plots may inform initial hierarchies\n",
    "- Create visualizations of poor quality data and also establish probability distributions for the likelihood function"
   ],
   "metadata": {
    "collapsed": false,
    "pycharm": {
     "name": "#%% md\n"
    }
   }
  },
  {
   "cell_type": "markdown",
   "source": [
    "#### 1. Import data and necessary packages"
   ],
   "metadata": {
    "collapsed": false,
    "pycharm": {
     "name": "#%% md\n"
    }
   }
  },
  {
   "cell_type": "code",
   "execution_count": 1,
   "outputs": [],
   "source": [
    "import os\n",
    "\n",
    "# os.environ['KERAS_BACKEND'] = 'theano'\n",
    "# os.environ['THEANO_FLAGS']='cpu'\n",
    "\n",
    "import pandas as pd\n",
    "import numpy as np\n",
    "import matplotlib.pyplot as plt\n",
    "%matplotlib inline\n",
    "import seaborn as sns\n",
    "sns.set_style('darkgrid')\n",
    "import arviz as az\n",
    "import pymc3 as pm\n",
    "import theano\n",
    "import theano.tensor as tt\n",
    "from sklearn.model_selection import train_test_split\n",
    "from sklearn.preprocessing import StandardScaler\n",
    "from sklearn.inspection import permutation_importance\n",
    "from sklearn import preprocessing\n",
    "from sklearn.metrics import mean_squared_error\n",
    "import category_encoders as ce\n",
    "import shap\n",
    "import mkl\n",
    "import xarray\n",
    "from statsmodels.stats.outliers_influence import variance_inflation_factor\n",
    "from fitter import Fitter, get_common_distributions, get_distributions\n",
    "from pymc3.variational.callbacks import CheckParametersConvergence\n",
    "\n",
    "# %load_ext timeit\n",
    "# %load_ext heat\n",
    "# %load_ext line_profiler\n",
    "# %load_ext memory_profiler"
   ],
   "metadata": {
    "collapsed": false,
    "pycharm": {
     "name": "#%%\n"
    }
   }
  },
  {
   "cell_type": "code",
   "execution_count": 2,
   "outputs": [],
   "source": [
    "df = pd.read_csv('/home/matt/Documents/cortex_Push.csv')\n",
    "df_bu = df"
   ],
   "metadata": {
    "collapsed": false,
    "pycharm": {
     "name": "#%%\n"
    }
   }
  },
  {
   "cell_type": "code",
   "execution_count": 3,
   "outputs": [],
   "source": [
    "df = df.drop(['Program Name', 'Retailers', 'Tactic', 'Vendor', 'Tactic Start Date',\n",
    "              'Tactic End Date'], axis=1)\n",
    "segment = [var for var in df.columns if df[var].dtype == 'O']\n",
    "df_cat = df.select_dtypes(include=object)\n",
    "# print(df_cat.nunique())"
   ],
   "metadata": {
    "collapsed": false,
    "pycharm": {
     "name": "#%%\n"
    }
   }
  },
  {
   "cell_type": "code",
   "execution_count": 4,
   "outputs": [],
   "source": [
    "df.RMN.replace(('Yes', 'No'), (1, 0), inplace=True)"
   ],
   "metadata": {
    "collapsed": false,
    "pycharm": {
     "name": "#%%\n"
    }
   }
  },
  {
   "cell_type": "code",
   "execution_count": 5,
   "outputs": [],
   "source": [
    "# for col in df.select_dtypes(include='object'):\n",
    "#     if df[col].nunique() <= 25:\n",
    "#         sns.countplot(y=col, data=df)\n",
    "#         plt.show()"
   ],
   "metadata": {
    "collapsed": false,
    "pycharm": {
     "name": "#%%\n"
    }
   }
  },
  {
   "cell_type": "code",
   "execution_count": 6,
   "outputs": [],
   "source": [
    "# df = df.drop(\n",
    "#     [], axis=1)\n",
    "integer = [var for var in df.columns if df[var].dtype == 'int64']\n",
    "df_int = df.select_dtypes(include=int)"
   ],
   "metadata": {
    "collapsed": false,
    "pycharm": {
     "name": "#%%\n"
    }
   }
  },
  {
   "cell_type": "code",
   "execution_count": 7,
   "outputs": [],
   "source": [
    "df = df.drop(\n",
    "        ['Base $', 'Incr $', 'Base Units', 'Incr Units',\n",
    "         '$ Shr - Ty Subcategory', 'Units Shr - Ty Category',\n",
    "         'Units Shr - Ty Subcategory'], axis=1)\n",
    "fp = [var for var in df.columns if df[var].dtype == 'float64']\n",
    "fp_na = df[fp].isnull().sum() / len(df) * 100\n",
    "fp_zero = df[fp].sum()"
   ],
   "metadata": {
    "collapsed": false,
    "pycharm": {
     "name": "#%%\n"
    }
   }
  },
  {
   "cell_type": "code",
   "execution_count": 8,
   "outputs": [],
   "source": [
    "df = df.drop(\n",
    "        ['ClientId', 'Program Id', 'TacticId', 'CategoryId',\n",
    "         'BrandId', 'Nielsen_Week_Year', 'VendorId'], axis=1)\n",
    "df_num = df.select_dtypes(exclude='object')\n",
    "# df_num.describe()"
   ],
   "metadata": {
    "collapsed": false,
    "pycharm": {
     "name": "#%%\n"
    }
   }
  },
  {
   "cell_type": "code",
   "execution_count": 9,
   "outputs": [],
   "source": [
    "final_vars_cat = ['Number of UPCs Selling', 'Any Promo Units', '%ACV Distribution',\n",
    "                  'Feat w/o Disp %ACV', 'Price Decr Only %ACV', 'Disp w/o Feat %ACV',\n",
    "                  'Total Sales', 'Feat & Disp %ACV', 'RMN', 'Tactic Category', 'Brand']\n",
    "\n",
    "final_vars = ['Number of UPCs Selling', 'Any Promo Units', '%ACV Distribution',\n",
    "              'Feat w/o Disp %ACV', 'Price Decr Only %ACV', 'Disp w/o Feat %ACV',\n",
    "              'Total Sales', 'Feat & Disp %ACV', 'RMN']"
   ],
   "metadata": {
    "collapsed": false,
    "pycharm": {
     "name": "#%%\n"
    }
   }
  },
  {
   "cell_type": "code",
   "execution_count": 10,
   "outputs": [
    {
     "name": "stdout",
     "output_type": "stream",
     "text": [
      "Number of UPCs Selling\n",
      "         sumsquare_error          aic            bic  kl_div\n",
      "gamma           0.013375  1075.968649 -292293.237680     inf\n",
      "expon           0.014814  1063.437196 -290205.813534     inf\n",
      "cauchy          0.016145  1186.153183 -288439.471614     inf\n",
      "norm            0.025284  1165.841763 -279234.115072     inf\n",
      "uniform         0.035964   887.768122 -272003.307866     inf\n",
      "{'gamma': {'a': 1.1546879907984438, 'loc': -0.0074750016901030895, 'scale': 14.500983104854907}}\n",
      "Any Promo Units\n",
      "         sumsquare_error           aic            bic  kl_div\n",
      "cauchy      2.123850e-11  3.745221e+03 -708116.143728     inf\n",
      "expon       1.891835e-10  5.644774e+03 -663234.352935     inf\n",
      "norm        6.276788e-10  7.341008e+03 -638620.889651     inf\n",
      "uniform     7.617030e-10  2.913060e+03 -634649.112487     inf\n",
      "gamma       7.849363e-10  6.428922e+07 -634022.551167     NaN\n",
      "{'cauchy': {'loc': 9127.707279836573, 'scale': 13423.69390246777}}\n",
      "%ACV Distribution\n",
      "         sumsquare_error          aic            bic  kl_div\n",
      "cauchy          0.029709  1672.227967 -275317.509971     inf\n",
      "norm            0.230823  1172.906008 -233327.533562     inf\n",
      "gamma           0.232413  1151.649599 -233176.991352     inf\n",
      "uniform         0.236744   924.370939 -232808.759056     inf\n",
      "expon           0.243028  1010.804807 -232272.231917     inf\n",
      "{'cauchy': {'loc': 99.4496133009393, 'scale': 0.9875628130992835}}\n",
      "Feat w/o Disp %ACV\n",
      "         sumsquare_error          aic            bic    kl_div\n",
      "cauchy          0.044108  1884.274840 -267223.769605  0.825699\n",
      "gamma           0.109156  1427.516091 -248655.227375  0.842844\n",
      "expon           0.212554  1142.156226 -235016.295149  0.850628\n",
      "norm            0.241970  1101.409107 -232361.513311  0.818926\n",
      "uniform         0.245791   925.034037 -232040.624295  1.078022\n",
      "{'cauchy': {'loc': 0.008638838710766117, 'scale': 0.35516997847774234}}\n",
      "Price Decr Only %ACV\n",
      "         sumsquare_error          aic            bic    kl_div\n",
      "gamma           0.004059  1060.925561 -316073.062455  0.166556\n",
      "expon           0.008777   996.697616 -300291.089589  0.166525\n",
      "uniform         0.011961   925.034037 -293950.518291  0.221112\n",
      "norm            0.013318   979.217372 -291750.432230  0.244174\n",
      "cauchy          0.014026  1053.143886 -290689.664241  0.304780\n",
      "{'gamma': {'a': 0.45774179394257725, 'loc': -1.2761938911210542e-20, 'scale': 70.31730962847135}}\n",
      "Disp w/o Feat %ACV\n",
      "         sumsquare_error          aic            bic  kl_div\n",
      "expon           0.467843  3357.304753 -218858.059000     inf\n",
      "gamma           0.511049  1280.400896 -217038.955695     inf\n",
      "norm            0.913792  5107.659642 -205146.620917     inf\n",
      "uniform         1.031938   844.286717 -202656.322157     inf\n",
      "cauchy          1.054360  9432.426927 -202216.068782     inf\n",
      "{'expon': {'loc': 0.0, 'scale': 2.0826577803818176}}\n",
      "Total Sales\n",
      "         sumsquare_error          aic            bic  kl_div\n",
      "expon       9.469225e-13  4400.489734 -771641.008820     inf\n",
      "cauchy      1.158290e-12  3942.755325 -767507.590516     inf\n",
      "norm        4.202922e-12  5361.195217 -741067.136865     inf\n",
      "uniform     5.672881e-12  3307.421824 -734914.337179     inf\n",
      "gamma       6.123097e-12          inf -733337.657580     NaN\n",
      "{'expon': {'loc': 0.0, 'scale': 900921.3266184744}}\n",
      "Feat & Disp %ACV\n",
      "         sumsquare_error           aic            bic  kl_div\n",
      "expon           0.537182   7060.916716 -216027.462434     inf\n",
      "gamma           1.442352   1399.854666 -195788.603554     inf\n",
      "norm            1.866829   9287.324349 -190515.129898     inf\n",
      "uniform         2.120133    816.821739 -187909.174483     inf\n",
      "cauchy          2.149642  10871.630379 -187626.072392     inf\n",
      "{'expon': {'loc': 0.0, 'scale': 0.8203019383819149}}\n",
      "RMN\n",
      "         sumsquare_error          aic            bic  kl_div\n",
      "gamma        5678.922904   854.315740 -121714.171291     inf\n",
      "expon        6162.410256   164.808789 -117309.737080     inf\n",
      "uniform      6552.973377     4.000000 -113988.990758     inf\n",
      "norm         6564.056988   108.198501 -113897.667129     inf\n",
      "cauchy       6652.973377  9462.696564 -113170.571088     inf\n",
      "{'gamma': {'a': 0.03768909667923484, 'loc': -1.3139264196509206e-29, 'scale': 0.2506348552019996}}\n"
     ]
    }
   ],
   "source": [
    "df_final = df[final_vars]\n",
    "\n",
    "dist_list = ['gamma', 'expon', 'cauchy', 'norm', 'uniform']\n",
    "\n",
    "for var in final_vars:\n",
    "    dist_test = df_final[var].dropna()\n",
    "    dist_test = dist_test.values\n",
    "    f = Fitter(dist_test, distributions=dist_list, timeout=60)\n",
    "    f.fit()\n",
    "    print(var)\n",
    "    print(f.summary(plot=False))\n",
    "    print(f.get_best(method='sumsquare_error'))"
   ],
   "metadata": {
    "collapsed": false,
    "pycharm": {
     "name": "#%%\n"
    }
   }
  },
  {
   "cell_type": "code",
   "execution_count": 11,
   "outputs": [
    {
     "name": "stdout",
     "output_type": "stream",
     "text": [
      "Original number of obs and Tactic Categories\n",
      "54039\n",
      "20\n"
     ]
    }
   ],
   "source": [
    "df_final_cat = df_bu[final_vars_cat]\n",
    "df_final_cat = df_final_cat[df_final_cat['Total Sales'] > 0.0]\n",
    "\n",
    "print('Original number of obs and Tactic Categories')\n",
    "print(df['Tactic Category'].count())\n",
    "print(df['Tactic Category'].nunique())"
   ],
   "metadata": {
    "collapsed": false,
    "pycharm": {
     "name": "#%%\n"
    }
   }
  },
  {
   "cell_type": "code",
   "execution_count": 12,
   "outputs": [
    {
     "name": "stdout",
     "output_type": "stream",
     "text": [
      "Number of obs, new tactics, and new displays\n",
      "20481\n",
      "18\n",
      "46\n"
     ]
    }
   ],
   "source": [
    "print('Number of obs, new tactics, and new displays')\n",
    "print(df_final_cat['Tactic Category'].count())\n",
    "print(df_final_cat['Tactic Category'].nunique())\n",
    "print(df_final_cat['Brand'].nunique())"
   ],
   "metadata": {
    "collapsed": false,
    "pycharm": {
     "name": "#%%\n"
    }
   }
  },
  {
   "cell_type": "code",
   "execution_count": 13,
   "outputs": [],
   "source": [
    "tt.config.floatX = 'float32'\n",
    "\n",
    "df_final_cat = df_bu[final_vars_cat]\n",
    "df_final_cat = df_final_cat[df_final_cat['Total Sales'] > 0.0]\n",
    "\n",
    "df_final_cat['Total Sales'] = np.log(df_final_cat['Total Sales'])\n",
    "\n",
    "price_decr_idxs, price_decr = pd.factorize(df_final_cat['Price Decr Only %ACV'],\n",
    "                                           sort=True)\n",
    "tactic_idxs, tactics = pd.factorize(df_final_cat['Tactic Category'], sort=True)\n",
    "brand_idxs, brand = pd.factorize(df_final_cat['Brand'], sort=True)\n",
    "coords = {\"tactics\": tactics, 'brand': brand, 'obs_idx': np.arange(len(tactic_idxs)), 'price_decrease': price_decr}"
   ],
   "metadata": {
    "collapsed": false,
    "pycharm": {
     "name": "#%%\n"
    }
   }
  },
  {
   "cell_type": "markdown",
   "source": [
    "#### 3. Hierarchical Model with diagnostics"
   ],
   "metadata": {
    "collapsed": false,
    "pycharm": {
     "name": "#%% md\n"
    }
   }
  },
  {
   "cell_type": "code",
   "execution_count": null,
   "outputs": [
    {
     "name": "stderr",
     "output_type": "stream",
     "text": [
      "Auto-assigning NUTS sampler...\n",
      "INFO:pymc3:Auto-assigning NUTS sampler...\n",
      "Initializing NUTS using advi+adapt_diag...\n",
      "INFO:pymc3:Initializing NUTS using advi+adapt_diag...\n"
     ]
    },
    {
     "data": {
      "text/plain": "<IPython.core.display.HTML object>",
      "text/html": "\n<style>\n    /* Turns off some styling */\n    progress {\n        /* gets rid of default border in Firefox and Opera. */\n        border: none;\n        /* Needs to be in here for Safari polyfill so background images work as expected. */\n        background-size: auto;\n    }\n    .progress-bar-interrupted, .progress-bar-interrupted::-webkit-progress-bar {\n        background: #F44336;\n    }\n</style>\n"
     },
     "metadata": {},
     "output_type": "display_data"
    },
    {
     "data": {
      "text/plain": "<IPython.core.display.HTML object>",
      "text/html": "\n    <div>\n      <progress value='0' class='' max='200000' style='width:300px; height:20px; vertical-align: middle;'></progress>\n      \n    </div>\n    "
     },
     "metadata": {},
     "output_type": "display_data"
    },
    {
     "name": "stderr",
     "output_type": "stream",
     "text": [
      "Convergence achieved at 63400\n",
      "INFO:pymc3.variational.inference:Convergence achieved at 63400\n",
      "Interrupted at 63,399 [31%]: Average Loss = 2.7462e+09\n",
      "INFO:pymc3.variational.inference:Interrupted at 63,399 [31%]: Average Loss = 2.7462e+09\n",
      "Multiprocess sampling (4 chains in 4 jobs)\n",
      "INFO:pymc3:Multiprocess sampling (4 chains in 4 jobs)\n",
      "NUTS: [noise, display_slope, display_int, tactic_slope, tactic_int, hp_b_4, sigma_d, hp_b_3, sigma_c, hp_b_2, sigma_b, hp_b_1, sigma_a, hp_b_0]\n",
      "INFO:pymc3:NUTS: [noise, display_slope, display_int, tactic_slope, tactic_int, hp_b_4, sigma_d, hp_b_3, sigma_c, hp_b_2, sigma_b, hp_b_1, sigma_a, hp_b_0]\n"
     ]
    },
    {
     "data": {
      "text/plain": "<IPython.core.display.HTML object>",
      "text/html": "\n<style>\n    /* Turns off some styling */\n    progress {\n        /* gets rid of default border in Firefox and Opera. */\n        border: none;\n        /* Needs to be in here for Safari polyfill so background images work as expected. */\n        background-size: auto;\n    }\n    .progress-bar-interrupted, .progress-bar-interrupted::-webkit-progress-bar {\n        background: #F44336;\n    }\n</style>\n"
     },
     "metadata": {},
     "output_type": "display_data"
    },
    {
     "data": {
      "text/plain": "<IPython.core.display.HTML object>",
      "text/html": "\n    <div>\n      <progress value='0' class='' max='15000' style='width:300px; height:20px; vertical-align: middle;'></progress>\n      \n    </div>\n    "
     },
     "metadata": {},
     "output_type": "display_data"
    }
   ],
   "source": [
    "with pm.Model(coords=coords) as h_model:\n",
    "    tactic_idx = pm.Data(\"Tactic Category\", tactic_idxs, dims=\"obs_idx\")\n",
    "    brand_idx = pm.Data(\"Brand\", brand_idxs, dims=\"obs_idx\")\n",
    "    price_decr = pm.Data(\"Price Decrease Only\", price_decr_idxs, dims=\"obs_idx\")\n",
    "\n",
    "    # Tactic Category hyperpriors parameters:\n",
    "    hp_b_0 = pm.Normal(\"hp_b_0\", mu=0.0, sigma=5.0)\n",
    "    sigma_a = pm.Exponential(\"sigma_a\", 1.0)\n",
    "    hp_b_1 = pm.Normal(\"hp_b_1\", mu=0.0, sigma=1.0)\n",
    "    sigma_b = pm.Exponential(\"sigma_b\", 0.5)\n",
    "\n",
    "    # Brand hyperpriors parameters\n",
    "    hp_b_2 = pm.Normal(\"hp_b_2\", mu=0.0, sigma=5.0)\n",
    "    sigma_c = pm.Exponential(\"sigma_c\", 1.0)\n",
    "    hp_b_3 = pm.Normal(\"hp_b_3\", mu=0.0, sigma=1.0)\n",
    "    sigma_d = pm.Exponential(\"sigma_d\", 0.5)\n",
    "\n",
    "    hp_b_4 = pm.Normal(\"hp_b_4\", mu=0.5, sigma=.3)\n",
    "\n",
    "    # estimates of independent intercepts and interactions of intercepts\n",
    "    b_0 = pm.Normal(\"tactic_int\", mu=hp_b_0, sigma=sigma_a, dims=\"tactics\")\n",
    "    b_1 = pm.Normal(\"tactic_slope\", mu=hp_b_1, sigma=sigma_b, dims=\"tactics\")\n",
    "\n",
    "    b_2 = pm.Normal(\"display_int\", mu=hp_b_2, sigma=sigma_c, dims=\"brand\")\n",
    "    b_3 = pm.Normal(\"display_slope\", mu=hp_b_3, sigma=sigma_d, dims=\"brand\")\n",
    "\n",
    "    price_decr_est = hp_b_4 * price_decr\n",
    "\n",
    "    # estimate of total sales using intercepts\n",
    "    sales_est_1 = b_0[tactic_idx] + b_1[tactic_idx] * brand_idx\n",
    "    sales_est_2 = b_2[brand_idx] + b_3[brand_idx] * tactic_idx\n",
    "    sales_est = sales_est_1 + sales_est_2 + price_decr_est\n",
    "\n",
    "    # Data likelihood\n",
    "    epsilon = pm.Exponential(\"noise\", 1.0)\n",
    "    Total_Sales = pm.Normal(\n",
    "            \"Log_Total_Sales\", mu=sales_est, sigma=epsilon,\n",
    "            observed=df_final_cat['Total Sales'], dims=\"obs_idx\")\n",
    "\n",
    "with h_model:\n",
    "    h_trace = pm.sample(draws=2500, init='advi+adapt_diag', chains=4,\n",
    "                        cores=4, tune=1250,\n",
    "                        target_accept=0.9, return_inferencedata=True)"
   ],
   "metadata": {
    "collapsed": false,
    "pycharm": {
     "name": "#%%\n",
     "is_executing": true
    }
   }
  },
  {
   "cell_type": "code",
   "execution_count": 32,
   "outputs": [
    {
     "ename": "ValueError",
     "evalue": "Do not know how to compute number of samples for trace argument of type <class 'arviz.data.inference_data.InferenceData'>",
     "output_type": "error",
     "traceback": [
      "\u001B[0;31m---------------------------------------------------------------------------\u001B[0m",
      "\u001B[0;31mValueError\u001B[0m                                Traceback (most recent call last)",
      "Input \u001B[0;32mIn [32]\u001B[0m, in \u001B[0;36m<cell line: 1>\u001B[0;34m()\u001B[0m\n\u001B[1;32m      1\u001B[0m \u001B[38;5;28;01mwith\u001B[39;00m h_model:\n\u001B[0;32m----> 2\u001B[0m     trace_ppc \u001B[38;5;241m=\u001B[39m \u001B[43mpm\u001B[49m\u001B[38;5;241;43m.\u001B[39;49m\u001B[43msample_posterior_predictive\u001B[49m\u001B[43m(\u001B[49m\u001B[43mh_trace\u001B[49m\u001B[43m,\u001B[49m\u001B[43m \u001B[49m\u001B[43mvar_names\u001B[49m\u001B[38;5;241;43m=\u001B[39;49m\u001B[43m[\u001B[49m\u001B[38;5;124;43m\"\u001B[39;49m\u001B[38;5;124;43my\u001B[39;49m\u001B[38;5;124;43m\"\u001B[39;49m\u001B[43m,\u001B[49m\u001B[43m \u001B[49m\u001B[38;5;124;43m\"\u001B[39;49m\u001B[38;5;124;43mmu\u001B[39;49m\u001B[38;5;124;43m\"\u001B[39;49m\u001B[43m]\u001B[49m\u001B[43m,\u001B[49m\u001B[43m \u001B[49m\u001B[43mrandom_seed\u001B[49m\u001B[38;5;241;43m=\u001B[39;49m\u001B[38;5;241;43m0\u001B[39;49m\u001B[43m)\u001B[49m\n",
      "File \u001B[0;32m~/anaconda3/envs/mercury-ds/lib/python3.8/site-packages/pymc3/sampling.py:1614\u001B[0m, in \u001B[0;36msample_posterior_predictive\u001B[0;34m(trace, samples, model, vars, var_names, size, keep_size, random_seed, progressbar)\u001B[0m\n\u001B[1;32m   1612\u001B[0m         samples \u001B[38;5;241m=\u001B[39m \u001B[38;5;28mlen\u001B[39m(trace)\n\u001B[1;32m   1613\u001B[0m     \u001B[38;5;28;01melse\u001B[39;00m:\n\u001B[0;32m-> 1614\u001B[0m         \u001B[38;5;28;01mraise\u001B[39;00m \u001B[38;5;167;01mValueError\u001B[39;00m(\u001B[38;5;124m\"\u001B[39m\u001B[38;5;124mDo not know how to compute number of samples for trace argument of type \u001B[39m\u001B[38;5;132;01m%s\u001B[39;00m\u001B[38;5;124m\"\u001B[39m\u001B[38;5;241m%\u001B[39m\u001B[38;5;28mtype\u001B[39m(trace))\n\u001B[1;32m   1616\u001B[0m \u001B[38;5;28;01mif\u001B[39;00m samples \u001B[38;5;241m<\u001B[39m len_trace \u001B[38;5;241m*\u001B[39m nchain:\n\u001B[1;32m   1617\u001B[0m     warnings\u001B[38;5;241m.\u001B[39mwarn(\n\u001B[1;32m   1618\u001B[0m         \u001B[38;5;124m\"\u001B[39m\u001B[38;5;124msamples parameter is smaller than nchains times ndraws, some draws \u001B[39m\u001B[38;5;124m\"\u001B[39m\n\u001B[1;32m   1619\u001B[0m         \u001B[38;5;124m\"\u001B[39m\u001B[38;5;124mand/or chains may not be represented in the returned posterior \u001B[39m\u001B[38;5;124m\"\u001B[39m\n\u001B[1;32m   1620\u001B[0m         \u001B[38;5;124m\"\u001B[39m\u001B[38;5;124mpredictive sample\u001B[39m\u001B[38;5;124m\"\u001B[39m\n\u001B[1;32m   1621\u001B[0m     )\n",
      "\u001B[0;31mValueError\u001B[0m: Do not know how to compute number of samples for trace argument of type <class 'arviz.data.inference_data.InferenceData'>"
     ]
    }
   ],
   "source": [
    "with h_model:\n",
    "    trace_ppc = pm.sample_posterior_predictive(h_trace, var_names=[\"y\", \"mu\"], random_seed=0)"
   ],
   "metadata": {
    "collapsed": false,
    "pycharm": {
     "name": "#%%\n"
    }
   }
  },
  {
   "cell_type": "code",
   "execution_count": null,
   "outputs": [],
   "source": [
    "print('Model R-Squared')\n",
    "print(az.r2_score(df_final_cat['Total Sales'].values, model_ppc['Log_Total_Sales']))\n",
    "def score_model(trace,y,model_name):\n",
    "    \"\"\"\n",
    "\n",
    "    :param trace: trace from PyMC3 plot\n",
    "    :param y: samples\n",
    "    :param model_name: model from PyMC3\n",
    "    \"\"\"\n",
    "    ppc = pm.sample_posterior_predictive(trace, samples=20841,\n",
    "                                         model=model_name)\n",
    "    pred = ppc['Log_Total_Sales'].mean(axis=0)\n",
    "    mse = np.sqrt(mean_squared_error(y, pred))\n",
    "    print('The Mean Squared Error')\n",
    "    print(mse)\n",
    "\n",
    "score_model(h_trace, df_final_cat['Total Sales'], h_model)\n",
    "\n",
    "print('Trace Summary and Effective Sample Size')\n",
    "print(az.summary(h_trace, kind='stats'))\n",
    "print(az.summary(h_trace, kind='diagnostics'))\n",
    "az.plot_posterior(h_trace, hdi_prob=0.99)\n",
    "az.plot_energy(h_trace)\n",
    "plt.show()\n",
    "print('Bayesian fraction of missing information')\n",
    "print(az.bfmi(h_trace))\n",
    "az.plot_forest(h_trace, kind='ridgeplot')"
   ],
   "metadata": {
    "collapsed": false,
    "pycharm": {
     "name": "#%%\n"
    }
   }
  },
  {
   "cell_type": "code",
   "execution_count": null,
   "outputs": [],
   "source": [
    "pm.model_to_graphviz(h_model)"
   ],
   "metadata": {
    "collapsed": false,
    "pycharm": {
     "name": "#%%\n"
    }
   }
  }
 ],
 "metadata": {
  "datalore": {
   "base_environment": "default",
   "computation_mode": "JUPYTER",
   "package_manager": "pip",
   "packages": [],
   "version": 1
  },
  "kernelspec": {
   "name": "python3",
   "language": "python",
   "display_name": "Python 3 (ipykernel)"
  },
  "language_info": {
   "codemirror_mode": {
    "name": "ipython",
    "version": 3
   },
   "file_extension": ".py",
   "mimetype": "text/x-python",
   "name": "python",
   "nbconvert_exporter": "python",
   "pygments_lexer": "ipython3",
   "version": "3.8.13"
  }
 },
 "nbformat": 4,
 "nbformat_minor": 4
}